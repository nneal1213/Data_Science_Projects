{
 "cells": [
  {
   "cell_type": "markdown",
   "metadata": {},
   "source": [
    "Data from: https://www.kaggle.com/kondla/carinsurance"
   ]
  },
  {
   "cell_type": "code",
   "execution_count": 7,
   "metadata": {},
   "outputs": [],
   "source": [
    "import pandas as pd\n",
    "import numpy as np\n",
    "import matplotlib.pyplot as plt\n",
    "import seaborn as sns\n",
    "from sklearn.model_selection import train_test_split, GridSearchCV\n",
    "from sklearn.ensemble import AdaBoostClassifier, RandomForestClassifier, GradientBoostingClassifier, VotingClassifier\n",
    "from sklearn.pipeline import make_pipeline\n",
    "from sklearn.preprocessing import StandardScaler, RobustScaler\n",
    "from sklearn.metrics import roc_auc_score, roc_curve, precision_recall_curve\n",
    "from sklearn.linear_model import LogisticRegression\n",
    "\n",
    "%matplotlib inline"
   ]
  },
  {
   "cell_type": "code",
   "execution_count": 125,
   "metadata": {},
   "outputs": [],
   "source": [
    "df = pd.read_csv('carinsurance_train.csv')"
   ]
  },
  {
   "cell_type": "code",
   "execution_count": 126,
   "metadata": {},
   "outputs": [
    {
     "data": {
      "text/plain": [
       "Id                     0\n",
       "Age                    0\n",
       "Job                   19\n",
       "Marital                0\n",
       "Education            169\n",
       "Default                0\n",
       "Balance                0\n",
       "HHInsurance            0\n",
       "CarLoan                0\n",
       "Communication        902\n",
       "LastContactDay         0\n",
       "LastContactMonth       0\n",
       "NoOfContacts           0\n",
       "DaysPassed             0\n",
       "PrevAttempts           0\n",
       "Outcome             3042\n",
       "CallStart              0\n",
       "CallEnd                0\n",
       "CarInsurance           0\n",
       "dtype: int64"
      ]
     },
     "execution_count": 126,
     "metadata": {},
     "output_type": "execute_result"
    }
   ],
   "source": [
    "df.isnull().sum()"
   ]
  },
  {
   "cell_type": "code",
   "execution_count": 127,
   "metadata": {},
   "outputs": [],
   "source": [
    "# Dropping columns and nulls\n",
    "df.dropna(subset = ['Job','Education'],inplace=True)\n",
    "df.drop(['Outcome','Communication','Id'],axis=1,inplace=True)"
   ]
  },
  {
   "cell_type": "code",
   "execution_count": 128,
   "metadata": {},
   "outputs": [
    {
     "data": {
      "text/html": [
       "<div>\n",
       "<style scoped>\n",
       "    .dataframe tbody tr th:only-of-type {\n",
       "        vertical-align: middle;\n",
       "    }\n",
       "\n",
       "    .dataframe tbody tr th {\n",
       "        vertical-align: top;\n",
       "    }\n",
       "\n",
       "    .dataframe thead th {\n",
       "        text-align: right;\n",
       "    }\n",
       "</style>\n",
       "<table border=\"1\" class=\"dataframe\">\n",
       "  <thead>\n",
       "    <tr style=\"text-align: right;\">\n",
       "      <th></th>\n",
       "      <th>Age</th>\n",
       "      <th>Job</th>\n",
       "      <th>Marital</th>\n",
       "      <th>Education</th>\n",
       "      <th>Default</th>\n",
       "      <th>Balance</th>\n",
       "      <th>HHInsurance</th>\n",
       "      <th>CarLoan</th>\n",
       "      <th>LastContactDay</th>\n",
       "      <th>LastContactMonth</th>\n",
       "      <th>NoOfContacts</th>\n",
       "      <th>DaysPassed</th>\n",
       "      <th>PrevAttempts</th>\n",
       "      <th>CallStart</th>\n",
       "      <th>CallEnd</th>\n",
       "      <th>CarInsurance</th>\n",
       "    </tr>\n",
       "  </thead>\n",
       "  <tbody>\n",
       "    <tr>\n",
       "      <th>0</th>\n",
       "      <td>32</td>\n",
       "      <td>management</td>\n",
       "      <td>single</td>\n",
       "      <td>tertiary</td>\n",
       "      <td>0</td>\n",
       "      <td>1218</td>\n",
       "      <td>1</td>\n",
       "      <td>0</td>\n",
       "      <td>28</td>\n",
       "      <td>jan</td>\n",
       "      <td>2</td>\n",
       "      <td>-1</td>\n",
       "      <td>0</td>\n",
       "      <td>13:45:20</td>\n",
       "      <td>13:46:30</td>\n",
       "      <td>0</td>\n",
       "    </tr>\n",
       "    <tr>\n",
       "      <th>1</th>\n",
       "      <td>32</td>\n",
       "      <td>blue-collar</td>\n",
       "      <td>married</td>\n",
       "      <td>primary</td>\n",
       "      <td>0</td>\n",
       "      <td>1156</td>\n",
       "      <td>1</td>\n",
       "      <td>0</td>\n",
       "      <td>26</td>\n",
       "      <td>may</td>\n",
       "      <td>5</td>\n",
       "      <td>-1</td>\n",
       "      <td>0</td>\n",
       "      <td>14:49:03</td>\n",
       "      <td>14:52:08</td>\n",
       "      <td>0</td>\n",
       "    </tr>\n",
       "    <tr>\n",
       "      <th>2</th>\n",
       "      <td>29</td>\n",
       "      <td>management</td>\n",
       "      <td>single</td>\n",
       "      <td>tertiary</td>\n",
       "      <td>0</td>\n",
       "      <td>637</td>\n",
       "      <td>1</td>\n",
       "      <td>0</td>\n",
       "      <td>3</td>\n",
       "      <td>jun</td>\n",
       "      <td>1</td>\n",
       "      <td>119</td>\n",
       "      <td>1</td>\n",
       "      <td>16:30:24</td>\n",
       "      <td>16:36:04</td>\n",
       "      <td>1</td>\n",
       "    </tr>\n",
       "    <tr>\n",
       "      <th>3</th>\n",
       "      <td>25</td>\n",
       "      <td>student</td>\n",
       "      <td>single</td>\n",
       "      <td>primary</td>\n",
       "      <td>0</td>\n",
       "      <td>373</td>\n",
       "      <td>1</td>\n",
       "      <td>0</td>\n",
       "      <td>11</td>\n",
       "      <td>may</td>\n",
       "      <td>2</td>\n",
       "      <td>-1</td>\n",
       "      <td>0</td>\n",
       "      <td>12:06:43</td>\n",
       "      <td>12:20:22</td>\n",
       "      <td>1</td>\n",
       "    </tr>\n",
       "    <tr>\n",
       "      <th>4</th>\n",
       "      <td>30</td>\n",
       "      <td>management</td>\n",
       "      <td>married</td>\n",
       "      <td>tertiary</td>\n",
       "      <td>0</td>\n",
       "      <td>2694</td>\n",
       "      <td>0</td>\n",
       "      <td>0</td>\n",
       "      <td>3</td>\n",
       "      <td>jun</td>\n",
       "      <td>1</td>\n",
       "      <td>-1</td>\n",
       "      <td>0</td>\n",
       "      <td>14:35:44</td>\n",
       "      <td>14:38:56</td>\n",
       "      <td>0</td>\n",
       "    </tr>\n",
       "  </tbody>\n",
       "</table>\n",
       "</div>"
      ],
      "text/plain": [
       "   Age          Job  Marital Education  Default  Balance  HHInsurance  \\\n",
       "0   32   management   single  tertiary        0     1218            1   \n",
       "1   32  blue-collar  married   primary        0     1156            1   \n",
       "2   29   management   single  tertiary        0      637            1   \n",
       "3   25      student   single   primary        0      373            1   \n",
       "4   30   management  married  tertiary        0     2694            0   \n",
       "\n",
       "   CarLoan  LastContactDay LastContactMonth  NoOfContacts  DaysPassed  \\\n",
       "0        0              28              jan             2          -1   \n",
       "1        0              26              may             5          -1   \n",
       "2        0               3              jun             1         119   \n",
       "3        0              11              may             2          -1   \n",
       "4        0               3              jun             1          -1   \n",
       "\n",
       "   PrevAttempts CallStart   CallEnd  CarInsurance  \n",
       "0             0  13:45:20  13:46:30             0  \n",
       "1             0  14:49:03  14:52:08             0  \n",
       "2             1  16:30:24  16:36:04             1  \n",
       "3             0  12:06:43  12:20:22             1  \n",
       "4             0  14:35:44  14:38:56             0  "
      ]
     },
     "execution_count": 128,
     "metadata": {},
     "output_type": "execute_result"
    }
   ],
   "source": [
    "df.head()"
   ]
  },
  {
   "cell_type": "code",
   "execution_count": 129,
   "metadata": {},
   "outputs": [],
   "source": [
    "# Timestamp modifications\n",
    "temp = pd.to_datetime(df['CallEnd'])- pd.to_datetime(df['CallStart'])\n",
    "df['Call Duration'] = [x.seconds/60 for x in temp]\n",
    "df['Call hour'] = [x.hour for x in pd.to_datetime(df['CallStart'])]\n",
    "df.drop(['CallStart','CallEnd'],axis=1,inplace=True)"
   ]
  },
  {
   "cell_type": "code",
   "execution_count": 130,
   "metadata": {},
   "outputs": [],
   "source": [
    "# Engineering a feature to signify whether a customer had been contacted before\n",
    "df['NotContactedBefore'] = df['DaysPassed'].apply(lambda x: 1 if x==-1 else 0)"
   ]
  },
  {
   "cell_type": "code",
   "execution_count": 131,
   "metadata": {},
   "outputs": [],
   "source": [
    "# Engineering busy and easy months\n",
    "\n",
    "df['busy_month'] = df['LastContactMonth'].apply(lambda x:1 if x in ['dec','mar','oct','sep'] else 0)\n",
    "df['easy_month'] = df['LastContactMonth'].apply(lambda x:1 if x in ['aug','jan','jul','jun','may','nov'] else 0)\n"
   ]
  },
  {
   "cell_type": "code",
   "execution_count": 132,
   "metadata": {},
   "outputs": [],
   "source": [
    "# Dropping last contact month\n",
    "df.drop('LastContactMonth',axis=1 , inplace=True)\n"
   ]
  },
  {
   "cell_type": "code",
   "execution_count": 133,
   "metadata": {},
   "outputs": [],
   "source": [
    "# Replacing education with ordinal numerical features\n",
    "df.replace({v:k for k,v in enumerate(['primary','secondary','tertiary'])},inplace=True)"
   ]
  },
  {
   "cell_type": "code",
   "execution_count": 134,
   "metadata": {},
   "outputs": [],
   "source": [
    "# Getting dummies for categorical features\n",
    "df = pd.get_dummies(df,columns = ['Job','Marital'],drop_first=True)"
   ]
  },
  {
   "cell_type": "code",
   "execution_count": 159,
   "metadata": {},
   "outputs": [],
   "source": [
    "def train_model(model,param_grid):   \n",
    "    gsc = GridSearchCV(model,param_grid = param_grid)\n",
    "    gsc.fit(X_train,y_train)\n",
    "    y_pred = gsc.predict_proba(X_test)[:,1]\n",
    "    print(f'AUC SCore {roc_auc_score(y_test,y_pred)}')\n",
    "    return model.set_params(**gsc.best_params_), y_pred"
   ]
  },
  {
   "cell_type": "code",
   "execution_count": 160,
   "metadata": {},
   "outputs": [
    {
     "name": "stdout",
     "output_type": "stream",
     "text": [
      "AUC SCore 0.918201754385965\n"
     ]
    }
   ],
   "source": [
    "# Baseline model\n",
    "X_cols = df.drop('CarInsurance',axis=1).columns\n",
    "X,y  = df.drop('CarInsurance',axis=1), df['CarInsurance'].values\n",
    "\n",
    "ss = RobustScaler()\n",
    "X = ss.fit_transform(X)\n",
    "X_train, X_test, y_train, y_test = train_test_split(X,y, test_size = 0.3, stratify = y)\n",
    "\n",
    "#rf = \n",
    "param_grid = {'n_estimators':np.arange(10,100,10),'max_depth':np.arange(1,8) }\n",
    "rf,y_pred = train_model(RandomForestClassifier(),param_grid)\n",
    "\n",
    "# gsc = GridSearchCV(rf,param_grid = param_grid)\n",
    "# gsc.fit(X_train,y_train)\n",
    "# y_pred = gsc.predict_proba(X_test)[:,1]\n",
    "# print(f'AUC SCore {roc_auc_score(y_test,y_pred)}')"
   ]
  },
  {
   "cell_type": "code",
   "execution_count": 161,
   "metadata": {},
   "outputs": [
    {
     "data": {
      "text/plain": [
       "[('Call Duration', 0.45287468834233147),\n",
       " ('busy_month', 0.07636003367984816),\n",
       " ('Age', 0.05918792843815998),\n",
       " ('DaysPassed', 0.05800902917733756),\n",
       " ('easy_month', 0.05080559398981709)]"
      ]
     },
     "execution_count": 161,
     "metadata": {},
     "output_type": "execute_result"
    }
   ],
   "source": [
    "# Showing feature importance\n",
    "#rf = rf.set_params(**gsc.best_params_)\n",
    "rf.fit(X_train,y_train)\n",
    "sorted(list(zip(X_cols,rf.feature_importances_)), key = lambda x: x[1], reverse = True)[:5]"
   ]
  },
  {
   "cell_type": "code",
   "execution_count": 162,
   "metadata": {},
   "outputs": [],
   "source": [
    "def plot_auc_pr_curve(y_test,y_pred):\n",
    "    plt.figure()\n",
    "    fp, tp, _ = roc_curve(y_test,y_pred)\n",
    "    plt.plot(fp,tp);\n",
    "    plt.xlabel('False Positive');\n",
    "    plt.ylabel('True Positive');\n",
    "    plt.title('AUC Curve')\n",
    "\n",
    "    plt.figure()\n",
    "    precision, recall, _ = precision_recall_curve(y_test,y_pred)\n",
    "    plt.plot(recall, precision);\n",
    "    plt.xlabel('Recall');\n",
    "    plt.ylabel('Precision');\n",
    "    plt.title('Recall-Precision')"
   ]
  },
  {
   "cell_type": "code",
   "execution_count": 163,
   "metadata": {},
   "outputs": [
    {
     "data": {
      "image/png": "[encoded data removed]",
      "text/plain": [
       "<matplotlib.figure.Figure at 0x1fa79f7ea58>"
      ]
     },
     "metadata": {},
     "output_type": "display_data"
    },
    {
     "data": {
      "image/png": "[encoded data removed]",
      "text/plain": [
       "<matplotlib.figure.Figure at 0x1fa79a49588>"
      ]
     },
     "metadata": {},
     "output_type": "display_data"
    }
   ],
   "source": [
    "plot_auc_pr_curve(y_test,y_pred)"
   ]
  },
  {
   "cell_type": "code",
   "execution_count": 166,
   "metadata": {},
   "outputs": [
    {
     "name": "stdout",
     "output_type": "stream",
     "text": [
      "AUC SCore 0.9241609458428681\n"
     ]
    },
    {
     "data": {
      "text/plain": [
       "[('Call Duration', 0.30175559393894164),\n",
       " ('DaysPassed', 0.09624909700524314),\n",
       " ('Age', 0.08763629357703845),\n",
       " ('LastContactDay', 0.08163015064133702),\n",
       " ('Balance', 0.06955963273711457)]"
      ]
     },
     "execution_count": 166,
     "metadata": {},
     "output_type": "execute_result"
    }
   ],
   "source": [
    "param_grid = {'n_estimators':np.arange(10,100,10),'learning_rate':np.arange(0.05,0.15,0.02)}\n",
    "gb,y_pred = train_model(GradientBoostingClassifier(),param_grid)\n",
    "gb.fit(X_train,y_train)\n",
    "sorted(list(zip(X_cols,gb.feature_importances_)), key = lambda x: x[1], reverse = True)[:5]"
   ]
  },
  {
   "cell_type": "code",
   "execution_count": 167,
   "metadata": {},
   "outputs": [
    {
     "name": "stdout",
     "output_type": "stream",
     "text": [
      "AUC SCore 0.9149678998220188\n"
     ]
    },
    {
     "data": {
      "text/plain": [
       "[('Call Duration', 0.4),\n",
       " ('HHInsurance', 0.1),\n",
       " ('Age', 0.06666666666666667),\n",
       " ('easy_month', 0.06666666666666667),\n",
       " ('DaysPassed', 0.05555555555555555)]"
      ]
     },
     "execution_count": 167,
     "metadata": {},
     "output_type": "execute_result"
    }
   ],
   "source": [
    "param_grid = {'n_estimators':np.arange(10,100,10),'learning_rate':np.arange(0.05,0.15,0.02)}\n",
    "adaboost,y_pred = train_model(AdaBoostClassifier(),param_grid)\n",
    "adaboost.fit(X_train,y_train)\n",
    "sorted(list(zip(X_cols,adaboost.feature_importances_)), key = lambda x: x[1], reverse = True)[:5]"
   ]
  },
  {
   "cell_type": "code",
   "execution_count": 186,
   "metadata": {},
   "outputs": [
    {
     "name": "stdout",
     "output_type": "stream",
     "text": [
      "AUC SCore 0.9078311721332317\n"
     ]
    },
    {
     "data": {
      "text/plain": [
       "[('Call Duration', 1.7069754872436338),\n",
       " ('busy_month', 1.060910817413623),\n",
       " ('Job_retired', 0.57031097514249),\n",
       " ('Marital_single', 0.35215032529500917),\n",
       " ('Education', 0.26032742234156503)]"
      ]
     },
     "execution_count": 186,
     "metadata": {},
     "output_type": "execute_result"
    }
   ],
   "source": [
    "param_grid = {'penalty':['l1','l2'],'C':np.arange(0.1,1,0.1)}\n",
    "log_reg,y_pred = train_model(LogisticRegression(),param_grid)\n",
    "log_reg.fit(X_train,y_train)\n",
    "sorted(list(zip(X_cols,log_reg.coef_[0])), key = lambda x: x[1], reverse = True)[:5]"
   ]
  },
  {
   "cell_type": "code",
   "execution_count": 195,
   "metadata": {},
   "outputs": [],
   "source": [
    "voting = VotingClassifier([('log_reg',log_reg),('rf',rf),('gb',gb),('ada',adaboost)],voting='soft')\n"
   ]
  },
  {
   "cell_type": "code",
   "execution_count": 196,
   "metadata": {},
   "outputs": [
    {
     "name": "stdout",
     "output_type": "stream",
     "text": [
      "AUC Score 0.9242308670226289\n"
     ]
    },
    {
     "data": {
      "image/png": "[encoded data removed]",
      "text/plain": [
       "<matplotlib.figure.Figure at 0x1fa79fbeda0>"
      ]
     },
     "metadata": {},
     "output_type": "display_data"
    },
    {
     "data": {
      "image/png": "[encoded data removed]",
      "text/plain": [
       "<matplotlib.figure.Figure at 0x1fa7a0d9978>"
      ]
     },
     "metadata": {},
     "output_type": "display_data"
    }
   ],
   "source": [
    "voting.fit(X_train,y_train)\n",
    "y_pred = voting.predict_proba(X_test)[:,1]\n",
    "print(f'AUC Score {roc_auc_score(y_test,y_pred)}')\n",
    "plot_auc_pr_curve(y_test,y_pred)"
   ]
  },
  {
   "cell_type": "code",
   "execution_count": null,
   "metadata": {},
   "outputs": [],
   "source": []
  }
 ],
 "metadata": {
  "kernelspec": {
   "display_name": "Python 3",
   "language": "python",
   "name": "python3"
  },
  "language_info": {
   "codemirror_mode": {
    "name": "ipython",
    "version": 3
   },
   "file_extension": ".py",
   "mimetype": "text/x-python",
   "name": "python",
   "nbconvert_exporter": "python",
   "pygments_lexer": "ipython3",
   "version": "3.6.4"
  }
 },
 "nbformat": 4,
 "nbformat_minor": 2
}
