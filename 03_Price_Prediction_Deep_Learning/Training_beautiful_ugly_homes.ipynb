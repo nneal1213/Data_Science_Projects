{
 "cells": [
  {
   "cell_type": "code",
   "execution_count": 1,
   "metadata": {},
   "outputs": [
    {
     "name": "stderr",
     "output_type": "stream",
     "text": [
      "Using TensorFlow backend.\n"
     ]
    }
   ],
   "source": [
    "import keras\n",
    "from keras.models import Model\n",
    "from keras import applications\n",
    "from keras.preprocessing.image import ImageDataGenerator\n",
    "from keras import optimizers\n",
    "from keras.models import Sequential\n",
    "from keras.layers import Dropout, Flatten, Dense\n",
    "from keras.callbacks import ModelCheckpoint, EarlyStopping\n",
    "from keras.wrappers.scikit_learn import KerasRegressor\n",
    "\n",
    "import pandas as pd\n",
    "import pickle\n",
    "import numpy as np\n",
    "import matplotlib.pyplot as plt\n",
    "import seaborn as sns\n",
    "%matplotlib inline\n",
    "import os\n",
    "from sklearn.linear_model import LinearRegression\n",
    "from sklearn.metrics import mean_squared_error,r2_score\n",
    "from sklearn.model_selection import train_test_split\n",
    "from sklearn.ensemble import GradientBoostingRegressor\n",
    "from sklearn.utils.class_weight import compute_class_weight\n",
    "import random\n",
    "from PIL import Image \n"
   ]
  },
  {
   "cell_type": "code",
   "execution_count": null,
   "metadata": {},
   "outputs": [],
   "source": [
    "with open ('df.p', 'rb') as f:\n",
    "    df2 = pd.read_pickle(f)\n",
    "f.close()\n",
    "df2.replace('NA',np.nan,inplace=True)\n",
    "df2['Index'] = list(df2.index)\n",
    "df3 = df2.dropna(subset = ['price','sqft','bedrooms','bathrooms'])\n",
    "#df3[['price','sqft','bedrooms','bathrooms']].apply(lambda x: float(x))\n",
    "df3['price'].apply(lambda x: int(x))\n",
    "df3['sqft'].apply(lambda x: int(x))\n",
    "df3['bedrooms'].apply(lambda x: int(x))\n",
    "df3['bathrooms'].apply(lambda x: int(x))\n"
   ]
  },
  {
   "cell_type": "code",
   "execution_count": 3,
   "metadata": {
    "collapsed": true
   },
   "outputs": [],
   "source": [
    "df3 = df3[df3['city']=='Oakland']"
   ]
  },
  {
   "cell_type": "code",
   "execution_count": 4,
   "metadata": {},
   "outputs": [
    {
     "name": "stderr",
     "output_type": "stream",
     "text": [
      "/home/ubuntu/anaconda3/lib/python3.6/site-packages/matplotlib/font_manager.py:1297: UserWarning: findfont: Font family ['sans-serif'] not found. Falling back to DejaVu Sans\n",
      "  (prop.get_family(), self.defaultFamily[fontext]))\n"
     ]
    },
    {
     "data": {
      "image/png": "[encoded data removed]",
      "text/plain": [
       "<matplotlib.figure.Figure at 0x7f350b7d6668>"
      ]
     },
     "metadata": {},
     "output_type": "display_data"
    }
   ],
   "source": [
    "df3['zip'].apply(int)\n",
    "X = df3[['sqft','bedrooms','bathrooms','zip']].values\n",
    "#y = pd.DataFrame(df3['price'],index= df3.index).values\n",
    "y = df3['price'].apply(int)\n",
    "X_train,X_test,y_train,y_test = train_test_split(X,y,test_size=300,random_state=7)\n",
    "\n",
    "\n",
    "lr = LinearRegression()\n",
    "lr.fit(X_train,y_train)\n",
    "y_pred = lr.predict(X_test)\n",
    "y_pred = y_pred/10**6\n",
    "y_test = y_test.values/10**6\n",
    "plt.scatter(y_pred,y_test);\n",
    "#plt.scatter(y_pred,df3['price'],c='r')\n",
    "plt.plot(np.arange(0,3*10**7,1000),np.arange(0,3*10**7,1000));\n",
    "#plt.xticks(0,2*10**6,500000)\n",
    "plt.xlim(0,2);\n",
    "plt.ylim(0,2);\n",
    "plt.xlabel('Predicted (M)'),plt.ylabel('Actual (M)');\n"
   ]
  },
  {
   "cell_type": "code",
   "execution_count": 5,
   "metadata": {
    "collapsed": true
   },
   "outputs": [],
   "source": [
    "bedroom_dir = '/home/ubuntu/notebooks/web_scrape/beautiful_homes/bedroom/'\n",
    "living_room_dir = '/home/ubuntu/notebooks/web_scrape/beautiful_homes/living-room/'\n",
    "exterior_dir = '/home/ubuntu/notebooks/web_scrape/beautiful_homes/exterior/'\n",
    "total_dir = '/home/ubuntu/notebooks/web_scrape/beautiful_homes/total/'\n",
    "beautiful_bedroom = os.listdir(bedroom_dir)\n",
    "beautiful_living_room = os.listdir(living_room_dir)\n",
    "beautiful_exterior= os.listdir(exterior_dir)\n"
   ]
  },
  {
   "cell_type": "code",
   "execution_count": null,
   "metadata": {
    "collapsed": true
   },
   "outputs": [],
   "source": [
    "import shutil\n",
    "random_list = list()\n",
    "\n",
    "for file in beautiful_bedroom:\n",
    "    n = random.randint(1,pow(10,5))\n",
    "    \n",
    "    while n in random_list:\n",
    "        n = random.randint(1,pow(10,5))\n",
    "    \n",
    "    random_list.append(n)\n",
    "    shutil.copy2(bedroom_dir+file,total_dir+str(n)+'.jpg')\n",
    "\n",
    "for file in beautiful_living_room:\n",
    "    n = random.randint(1,pow(10,5))\n",
    "    \n",
    "    while n in random_list:\n",
    "        n = random.randint(1,pow(10,5))\n",
    "    \n",
    "    random_list.append(n)\n",
    "    shutil.copy2(living_room_dir+file,total_dir+str(n)+'.jpg')\n",
    "\n",
    "\n",
    "for file in beautiful_exterior:\n",
    "    n = random.randint(1,pow(10,5))\n",
    "    \n",
    "    while n in random_list:\n",
    "        n = random.randint(1,pow(10,5))\n",
    "    \n",
    "    random_list.append(n)\n",
    "    shutil.copy2(exterior_dir+file,total_dir+str(n)+'.jpg')\n",
    "    "
   ]
  },
  {
   "cell_type": "code",
   "execution_count": 6,
   "metadata": {
    "collapsed": true
   },
   "outputs": [],
   "source": [
    "# Setting up test-train splits\n",
    "beautiful_total= os.listdir(total_dir)\n",
    "train_beautiful_dir = '/home/ubuntu/notebooks/web_scrape/train/beautiful/'\n",
    "test_beautiful_dir = '/home/ubuntu/notebooks/web_scrape/test/beautiful/'"
   ]
  },
  {
   "cell_type": "code",
   "execution_count": null,
   "metadata": {
    "collapsed": true
   },
   "outputs": [],
   "source": [
    "for index,file in enumerate(beautiful_total):\n",
    "    if index < 0.7*len(beautiful_total):\n",
    "        shutil.copy2(total_dir+file,train_beautiful_dir+file)\n",
    "    if index >= 0.7*len(beautiful_total):\n",
    "        shutil.copy2(total_dir+file,test_beautiful_dir+file)"
   ]
  },
  {
   "cell_type": "code",
   "execution_count": 7,
   "metadata": {
    "collapsed": true
   },
   "outputs": [],
   "source": [
    "ugly_total_dir = '/home/ubuntu/notebooks/web_scrape/uglyhouses/'\n",
    "ugly_total= os.listdir(ugly_total_dir)\n",
    "train_ugly_dir = '/home/ubuntu/notebooks/web_scrape/train/ugly/'\n",
    "test_ugly_dir = '/home/ubuntu/notebooks/web_scrape/test/ugly/'"
   ]
  },
  {
   "cell_type": "code",
   "execution_count": null,
   "metadata": {
    "collapsed": true
   },
   "outputs": [],
   "source": [
    "for index,file in enumerate(ugly_total):\n",
    "    if index < 0.7*len(ugly_total):\n",
    "        shutil.copy2(ugly_total_dir+file,train_ugly_dir+file)\n",
    "    if index >= 0.7*len(ugly_total):\n",
    "        shutil.copy2(ugly_total_dir+file,test_ugly_dir+file)"
   ]
  },
  {
   "cell_type": "code",
   "execution_count": 8,
   "metadata": {},
   "outputs": [
    {
     "data": {
      "text/plain": [
       "defaultdict(float, {0: 1, 1: 5.352095059412132})"
      ]
     },
     "execution_count": 8,
     "metadata": {},
     "output_type": "execute_result"
    }
   ],
   "source": [
    "# Making class weights\n",
    "from collections import defaultdict\n",
    "class_weights = defaultdict(float)\n",
    "\n",
    "class_weights[0] = 1\n",
    "class_weights[1] = len(beautiful_total)/(len(ugly_total))\n",
    "\n",
    "#temp = min(class_weights.values())\n",
    "\n",
    "#for i in class_weights.keys():\n",
    "#    class_weights[i] = class_weights[i]/temp\n",
    "class_weights\n"
   ]
  },
  {
   "cell_type": "code",
   "execution_count": 9,
   "metadata": {},
   "outputs": [
    {
     "name": "stdout",
     "output_type": "stream",
     "text": [
      "Model loaded.\n"
     ]
    }
   ],
   "source": [
    "# Setting up neural network\n",
    "\n",
    "# dimensions of our images.\n",
    "img_width, img_height = 224, 224\n",
    "train_data_dir = '/home/ubuntu/notebooks/web_scrape/train/'\n",
    "validation_data_dir = '/home/ubuntu/notebooks/web_scrape/test/'\n",
    "#nb_train_samples = 1457\n",
    "nb_train_samples = 14221\n",
    "\n",
    "nb_validation_samples = 6091\n",
    "epochs = 30\n",
    "batch_size = 32\n",
    "\n",
    "# build the VGG16 network\n",
    "#model = applications.VGG16(weights='imagenet', include_top=False,input_shape=(3, 224,224) )\n",
    "model = keras.applications.vgg16.VGG16(include_top=False, weights='imagenet', input_tensor=None, input_shape=(224,224,3), pooling=None, classes=1000)\n",
    "\n",
    "print('Model loaded.')"
   ]
  },
  {
   "cell_type": "code",
   "execution_count": 10,
   "metadata": {
    "collapsed": true
   },
   "outputs": [],
   "source": [
    "# set the first 25 layers (up to the last conv block)\n",
    "# to non-trainable (weights will not be updated)\n",
    "for layer in model.layers:\n",
    "    layer.trainable = False\n",
    "\n",
    "\n",
    "last = model.output\n",
    "x = Flatten()(last)\n",
    "x = Dense(256,activation='relu')(x)\n",
    "x = Dropout(0.5)(x)\n",
    "\n",
    "preds = Dense(3, activation='softmax')(x)\n",
    "\n",
    "model = Model(model.input, preds)\n",
    "#model.compile(loss='categorical_crossentropy',\n",
    "#              optimizer=optimizers.SGD(lr=1e-4, momentum=0.9),\n",
    "#              metrics=['accuracy'])\n",
    "\n",
    "\n"
   ]
  },
  {
   "cell_type": "code",
   "execution_count": 11,
   "metadata": {
    "collapsed": true
   },
   "outputs": [],
   "source": [
    "model.load_weights('vgg16_room_classification.h5')"
   ]
  },
  {
   "cell_type": "code",
   "execution_count": 12,
   "metadata": {},
   "outputs": [
    {
     "data": {
      "text/plain": [
       "<keras.layers.core.Dense at 0x7f34e7bcec18>"
      ]
     },
     "execution_count": 12,
     "metadata": {},
     "output_type": "execute_result"
    }
   ],
   "source": [
    "#print(model\n",
    "model.layers.pop()"
   ]
  },
  {
   "cell_type": "code",
   "execution_count": 13,
   "metadata": {
    "collapsed": true
   },
   "outputs": [],
   "source": [
    "for layer in model.layers:\n",
    "    layer.trainable = False\n",
    "    \n",
    "preds = Dense(2, activation='softmax')(model.layers[-1].output)\n",
    "model = Model(model.input, preds)\n"
   ]
  },
  {
   "cell_type": "code",
   "execution_count": 14,
   "metadata": {
    "collapsed": true
   },
   "outputs": [],
   "source": [
    "model.compile(loss='categorical_crossentropy',\n",
    "              optimizer=optimizers.SGD(lr=1e-4, momentum=0.9),\n",
    "              metrics=['binary_accuracy'])\n"
   ]
  },
  {
   "cell_type": "code",
   "execution_count": 15,
   "metadata": {
    "collapsed": true
   },
   "outputs": [],
   "source": [
    "train_datagen = ImageDataGenerator(\n",
    "    rescale=1. / 255,\n",
    "    shear_range=0.2,\n",
    "    zoom_range=0.2,\n",
    "    horizontal_flip=True)\n",
    "\n",
    "test_datagen = ImageDataGenerator(\n",
    "        rescale=1. / 255,\n",
    "    shear_range=0.2,\n",
    "    zoom_range=0.2,\n",
    "    horizontal_flip=True)"
   ]
  },
  {
   "cell_type": "code",
   "execution_count": 16,
   "metadata": {},
   "outputs": [
    {
     "name": "stdout",
     "output_type": "stream",
     "text": [
      "Found 14221 images belonging to 2 classes.\n",
      "Found 6091 images belonging to 2 classes.\n"
     ]
    }
   ],
   "source": [
    "train_generator = train_datagen.flow_from_directory(\n",
    "    train_data_dir,\n",
    "    target_size=(img_height, img_width),\n",
    "    batch_size=batch_size,\n",
    "    #class_mode = None\n",
    "    \n",
    "   )\n",
    "\n",
    "validation_generator = test_datagen.flow_from_directory(\n",
    "    validation_data_dir,\n",
    "    target_size=(img_height, img_width),\n",
    "    batch_size=batch_size,\n",
    "\n",
    "    #class_mode = None\n",
    "\n",
    "    )"
   ]
  },
  {
   "cell_type": "code",
   "execution_count": 17,
   "metadata": {},
   "outputs": [
    {
     "name": "stdout",
     "output_type": "stream",
     "text": [
      "_________________________________________________________________\n",
      "Layer (type)                 Output Shape              Param #   \n",
      "=================================================================\n",
      "input_1 (InputLayer)         (None, 224, 224, 3)       0         \n",
      "_________________________________________________________________\n",
      "block1_conv1 (Conv2D)        (None, 224, 224, 64)      1792      \n",
      "_________________________________________________________________\n",
      "block1_conv2 (Conv2D)        (None, 224, 224, 64)      36928     \n",
      "_________________________________________________________________\n",
      "block1_pool (MaxPooling2D)   (None, 112, 112, 64)      0         \n",
      "_________________________________________________________________\n",
      "block2_conv1 (Conv2D)        (None, 112, 112, 128)     73856     \n",
      "_________________________________________________________________\n",
      "block2_conv2 (Conv2D)        (None, 112, 112, 128)     147584    \n",
      "_________________________________________________________________\n",
      "block2_pool (MaxPooling2D)   (None, 56, 56, 128)       0         \n",
      "_________________________________________________________________\n",
      "block3_conv1 (Conv2D)        (None, 56, 56, 256)       295168    \n",
      "_________________________________________________________________\n",
      "block3_conv2 (Conv2D)        (None, 56, 56, 256)       590080    \n",
      "_________________________________________________________________\n",
      "block3_conv3 (Conv2D)        (None, 56, 56, 256)       590080    \n",
      "_________________________________________________________________\n",
      "block3_pool (MaxPooling2D)   (None, 28, 28, 256)       0         \n",
      "_________________________________________________________________\n",
      "block4_conv1 (Conv2D)        (None, 28, 28, 512)       1180160   \n",
      "_________________________________________________________________\n",
      "block4_conv2 (Conv2D)        (None, 28, 28, 512)       2359808   \n",
      "_________________________________________________________________\n",
      "block4_conv3 (Conv2D)        (None, 28, 28, 512)       2359808   \n",
      "_________________________________________________________________\n",
      "block4_pool (MaxPooling2D)   (None, 14, 14, 512)       0         \n",
      "_________________________________________________________________\n",
      "block5_conv1 (Conv2D)        (None, 14, 14, 512)       2359808   \n",
      "_________________________________________________________________\n",
      "block5_conv2 (Conv2D)        (None, 14, 14, 512)       2359808   \n",
      "_________________________________________________________________\n",
      "block5_conv3 (Conv2D)        (None, 14, 14, 512)       2359808   \n",
      "_________________________________________________________________\n",
      "block5_pool (MaxPooling2D)   (None, 7, 7, 512)         0         \n",
      "_________________________________________________________________\n",
      "flatten_1 (Flatten)          (None, 25088)             0         \n",
      "_________________________________________________________________\n",
      "dense_1 (Dense)              (None, 256)               6422784   \n",
      "_________________________________________________________________\n",
      "dense_4 (Dense)              (None, 2)                 514       \n",
      "=================================================================\n",
      "Total params: 21,137,986\n",
      "Trainable params: 514\n",
      "Non-trainable params: 21,137,472\n",
      "_________________________________________________________________\n"
     ]
    }
   ],
   "source": [
    "model.load_weights('vgg16_beautiful_ugly3.h5')\n",
    "model.layers.pop()\n",
    "model.layers.pop()\n",
    "for layer in model.layers:\n",
    "    layer.trainable = False\n",
    "\n",
    "preds = Dense(2, activation='softmax')(model.layers[-1].output)\n",
    "model = Model(model.input, preds)\n",
    "model.summary()\n",
    "\n"
   ]
  },
  {
   "cell_type": "code",
   "execution_count": 18,
   "metadata": {
    "collapsed": true
   },
   "outputs": [],
   "source": [
    "model.compile(loss='categorical_crossentropy',\n",
    "              optimizer=optimizers.SGD(lr=1e-4, momentum=0.9),\n",
    "              metrics=['binary_accuracy'])"
   ]
  },
  {
   "cell_type": "code",
   "execution_count": 19,
   "metadata": {
    "collapsed": true
   },
   "outputs": [],
   "source": [
    "model.load_weights('vgg16_beautiful_ugly_test4.h5')"
   ]
  },
  {
   "cell_type": "code",
   "execution_count": null,
   "metadata": {
    "collapsed": true
   },
   "outputs": [],
   "source": [
    "checkpoint = ModelCheckpoint(\"vgg16_beautiful_ugly_test4.h5\", monitor='val_loss', verbose=1, save_best_only=True, save_weights_only=True, mode='auto', period=1)\n",
    "early_stop = EarlyStopping(monitor='val_acc', min_delta=0, patience=1, verbose=0, mode='auto')\n",
    "tbCallBack = keras.callbacks.TensorBoard(log_dir='./Graph', histogram_freq=0,  \n",
    "          write_graph=True, write_images=True)\n",
    "\n",
    "# fine-tune the model\n",
    "model.fit_generator(\n",
    "    train_generator,\n",
    "    steps_per_epoch=nb_train_samples/batch_size,\n",
    "    epochs=epochs,\n",
    "    validation_data=validation_generator,\n",
    "    validation_steps=nb_validation_samples/batch_size,\n",
    "    callbacks = [checkpoint,tbCallBack],\n",
    "    class_weight=class_weights\n",
    "    #callbacks = [checkpoint]\n",
    ")"
   ]
  },
  {
   "cell_type": "code",
   "execution_count": null,
   "metadata": {
    "collapsed": true
   },
   "outputs": [],
   "source": [
    "# obtaining probabilities of prediction\n",
    "\n",
    "#root_dir = total_dir\n",
    "root_dir = ugly_total_dir\n",
    "\n",
    "dir_list = os.listdir(root_dir)\n",
    "#prediction_dict = defaultdict(list)\n",
    "prediction_list = list()\n",
    "price = [0,1]\n",
    "n = 0\n",
    "\n",
    "\n",
    "for file in dir_list:\n",
    "    \n",
    "    im = Image.open(root_dir+file)\n",
    "    im = im.resize((img_height, img_width))\n",
    "    images = np.array([np.asarray(im)])/255\n",
    "    pred_proba = model.predict(images,batch_size=1)\n",
    "    \n",
    "    \n",
    "    \n",
    "    #np.dot(pred_proba,price)\n",
    "    prediction_list.append(pred_proba[0])\n",
    "#    prediction_dict[int(file.split('_')[0])].append(np.dot(pred_proba,price))\n",
    "    \n",
    "    \n",
    "    if n>1700: break\n",
    "    n += 1\n",
    "    if n%100 ==0:\n",
    "        print(n)\n",
    "\n",
    "# Taking average of predictions"
   ]
  },
  {
   "cell_type": "code",
   "execution_count": 23,
   "metadata": {
    "collapsed": true
   },
   "outputs": [],
   "source": [
    "#beautiful_list = prediction_list\n",
    "ugly_list = prediction_list"
   ]
  },
  {
   "cell_type": "code",
   "execution_count": null,
   "metadata": {
    "collapsed": true
   },
   "outputs": [],
   "source": [
    "# obtaining probabilities of prediction\n",
    "\n",
    "root_dir = total_dir\n",
    "dir_list = os.listdir(root_dir)\n",
    "#prediction_dict = defaultdict(list)\n",
    "prediction_list = list()\n",
    "price = [0,1]\n",
    "n = 0\n",
    "\n",
    "\n",
    "for file in dir_list:\n",
    "    \n",
    "    im = Image.open(root_dir+file)\n",
    "    im = im.resize((img_height, img_width))\n",
    "    images = np.array([np.asarray(im)])/255\n",
    "    pred_proba = model.predict(images,batch_size=1)\n",
    "    \n",
    "    \n",
    "    \n",
    "    #np.dot(pred_proba,price)\n",
    "    prediction_list.append(pred_proba[0])\n",
    "#    prediction_dict[int(file.split('_')[0])].append(np.dot(pred_proba,price))\n",
    "    \n",
    "    if n> 155: break\n",
    "    \n",
    "    if n>1700: break\n",
    "    n += 1\n",
    "    if n%100 ==0:\n",
    "        print(n)\n",
    "\n",
    "# Taking average of predictions"
   ]
  },
  {
   "cell_type": "code",
   "execution_count": 25,
   "metadata": {
    "collapsed": true
   },
   "outputs": [],
   "source": [
    "beautiful_list = prediction_list\n"
   ]
  },
  {
   "cell_type": "code",
   "execution_count": 23,
   "metadata": {},
   "outputs": [
    {
     "name": "stderr",
     "output_type": "stream",
     "text": [
      "/home/ubuntu/anaconda3/lib/python3.6/site-packages/matplotlib/font_manager.py:1297: UserWarning: findfont: Font family ['sans-serif'] not found. Falling back to DejaVu Sans\n",
      "  (prop.get_family(), self.defaultFamily[fontext]))\n"
     ]
    },
    {
     "data": {
      "image/png": "[encoded data removed]",
      "text/plain": [
       "<matplotlib.figure.Figure at 0x7f8548e7f7b8>"
      ]
     },
     "metadata": {},
     "output_type": "display_data"
    }
   ],
   "source": [
    "ax1,*_ = plt.hist([x[0] for x in ugly_list],bins=100,alpha = 0.5,label='ugly');\n",
    "ax2,*_ = plt.hist([x[0] for x in beautiful_list],bins=100,alpha = 0.5,label='beautiful');\n",
    "#plt.legend(handles = ['Ugly','Beautiful'])\n",
    "#plt.legend('u' 'b')\n",
    "plt.legend(loc='upper right');\n",
    "plt.xlabel('Probability (Beautiful)');\n",
    "plt.ylabel('Frequency');"
   ]
  },
  {
   "cell_type": "code",
   "execution_count": 21,
   "metadata": {
    "collapsed": true
   },
   "outputs": [],
   "source": [
    "df4 = df3[df3['city']=='Oakland']\n"
   ]
  },
  {
   "cell_type": "code",
   "execution_count": 209,
   "metadata": {
    "collapsed": true
   },
   "outputs": [],
   "source": [
    "oakland_dir = os.listdir('/home/ubuntu/notebooks/oakland/pics')\n",
    "temp = [int(x.split('_')[0]) for x in oakland_dir]\n",
    "beautiful_prob_dict = defaultdict(list)\n",
    "\n",
    "for n in range(min(df4.index),max(df4.index)+1):\n",
    "    temp2 = list()\n",
    "    for file in oakland_dir:\n",
    "        if int(file.split('_')[0]) == n:\n",
    "            im = Image.open('/home/ubuntu/notebooks/oakland/pics/'+file)\n",
    "            im = im.resize((img_height, img_width))\n",
    "            images = np.array([np.asarray(im)])/255\n",
    "            #model2.predict(images,batch_size=1)\n",
    "            \n",
    "            beautiful_prob_dict[n].append(model.predict(images,batch_size=1)[0][0])\n",
    "    \n"
   ]
  },
  {
   "cell_type": "code",
   "execution_count": 210,
   "metadata": {
    "collapsed": true
   },
   "outputs": [],
   "source": [
    "#beautiful_prob_dict = backup"
   ]
  },
  {
   "cell_type": "code",
   "execution_count": 211,
   "metadata": {
    "collapsed": true
   },
   "outputs": [],
   "source": [
    "for i in beautiful_prob_dict.keys():\n",
    "    beautiful_prob_dict[i] = np.mean(beautiful_prob_dict[i])\n",
    "\n",
    "for n in range(min(df4.index),max(df4.index)+1):\n",
    "    if n not in beautiful_prob_dict.keys():\n",
    "        beautiful_prob_dict[n] = np.nan"
   ]
  },
  {
   "cell_type": "code",
   "execution_count": 212,
   "metadata": {
    "collapsed": true
   },
   "outputs": [],
   "source": [
    "\n",
    "pic_prob_df = pd.DataFrame.from_dict(beautiful_prob_dict,orient='index')\n",
    "pic_prob_df.columns = ['prob']\n"
   ]
  },
  {
   "cell_type": "code",
   "execution_count": null,
   "metadata": {
    "collapsed": true
   },
   "outputs": [],
   "source": [
    "\n",
    "df_total = pd.merge(df4,pic_prob_df,left_index = True, right_index = True)\n",
    "df_total['price'] = [int(x) for x in df_total['price'].values]\n",
    "df_total['sqft'].apply(lambda x: int(x))\n",
    "df_total['bedrooms'].apply(lambda x: int(x))\n",
    "df_total['bathrooms'].apply(lambda x: int(x))\n"
   ]
  },
  {
   "cell_type": "code",
   "execution_count": 214,
   "metadata": {
    "collapsed": true
   },
   "outputs": [],
   "source": [
    "# Dropping NA and greater than 2M\n",
    "df_total.dropna(subset=['prob'],inplace=True)\n",
    "#df_total.head()\n",
    "df_total = df_total[df_total['price'] < 2000000]"
   ]
  },
  {
   "cell_type": "code",
   "execution_count": 320,
   "metadata": {},
   "outputs": [
    {
     "name": "stdout",
     "output_type": "stream",
     "text": [
      "24736058767.2\n",
      "0.630105358288\n"
     ]
    },
    {
     "name": "stderr",
     "output_type": "stream",
     "text": [
      "/home/ubuntu/anaconda3/lib/python3.6/site-packages/matplotlib/font_manager.py:1297: UserWarning: findfont: Font family ['sans-serif'] not found. Falling back to DejaVu Sans\n",
      "  (prop.get_family(), self.defaultFamily[fontext]))\n"
     ]
    },
    {
     "data": {
      "image/png": "[encoded data removed]",
      "text/plain": [
       "<matplotlib.figure.Figure at 0x7f847c09b860>"
      ]
     },
     "metadata": {},
     "output_type": "display_data"
    }
   ],
   "source": [
    "# With photos\n",
    "\n",
    "X = df_total[['sqft','bedrooms','bathrooms','zip','prob']].values\n",
    "#y = pd.DataFrame(df3['price'],index= df3.index).values\n",
    "y = df_total['price']\n",
    "X_train,X_test,y_train,y_test = train_test_split(X,y,test_size=0.3,random_state=7)\n",
    "\n",
    "\n",
    "gbr = GradientBoostingRegressor(learning_rate = 0.121,n_estimators=100, random_state = 7)\n",
    "gbr.fit(X_train,y_train)\n",
    "y_pred_gbr = gbr.predict(X_test)\n",
    "\n",
    "print(mean_squared_error(y_test,y_pred_gbr))\n",
    "print(r2_score(y_test,y_pred_gbr))\n",
    "\n",
    "\n",
    "#plt.scatter(y_pred_gbr,y_test)\n",
    "#plt.plot(np.arange(100,pow(10,6),100),np.arange(100,pow(10,6),100))\n",
    "\n",
    "plt.scatter(y_pred_gbr/pow(10,6),y_test/pow(10,6));\n",
    "#plt.scatter(y_pred,df3['price'],c='r')\n",
    "plt.plot(np.arange(0,3*10**7,1000)/pow(10,6),np.arange(0,3*10**7,1000)/pow(10,6));\n",
    "#plt.xticks(0,2*10**6,500000)\n",
    "plt.xlim(0,2);\n",
    "plt.ylim(0,2);\n",
    "plt.xlabel('Predicted (M)'),plt.ylabel('Actual (M)');\n"
   ]
  },
  {
   "cell_type": "code",
   "execution_count": 307,
   "metadata": {},
   "outputs": [
    {
     "data": {
      "text/plain": [
       "array([ 0.37653054,  0.06877445,  0.06041036,  0.19703456,  0.29725009])"
      ]
     },
     "execution_count": 307,
     "metadata": {},
     "output_type": "execute_result"
    }
   ],
   "source": [
    "gbr.feature_importances_"
   ]
  },
  {
   "cell_type": "code",
   "execution_count": 297,
   "metadata": {},
   "outputs": [
    {
     "name": "stdout",
     "output_type": "stream",
     "text": [
      "29834016210.1\n",
      "0.553872229981\n"
     ]
    },
    {
     "name": "stderr",
     "output_type": "stream",
     "text": [
      "/home/ubuntu/anaconda3/lib/python3.6/site-packages/matplotlib/font_manager.py:1297: UserWarning: findfont: Font family ['sans-serif'] not found. Falling back to DejaVu Sans\n",
      "  (prop.get_family(), self.defaultFamily[fontext]))\n"
     ]
    },
    {
     "data": {
      "image/png": "[encoded data removed]",
      "text/plain": [
       "<matplotlib.figure.Figure at 0x7f85387a2390>"
      ]
     },
     "metadata": {},
     "output_type": "display_data"
    }
   ],
   "source": [
    "# Without photos\n",
    "\n",
    "X = df_total[['sqft','bedrooms','bathrooms','zip']].values\n",
    "#y = pd.DataFrame(df3['price'],index= df3.index).values\n",
    "y = df_total['price']\n",
    "X_train,X_test,y_train,y_test = train_test_split(X,y,test_size=0.3,random_state=7)\n",
    "\n",
    "\n",
    "gbr = GradientBoostingRegressor(learning_rate=0.13,random_state = 7)\n",
    "gbr.fit(X_train,y_train)\n",
    "y_pred_gbr = gbr.predict(X_test)\n",
    "\n",
    "\n",
    "\n",
    "print(mean_squared_error(y_test,y_pred_gbr))\n",
    "print(r2_score(y_test,y_pred_gbr))\n",
    "#plt.scatter(y_pred_gbr,y_test)\n",
    "#plt.plot(np.arange(100,pow(10,6),100),np.arange(100,pow(10,6),100))\n",
    "\n",
    "plt.scatter(y_pred_gbr,y_test);\n",
    "#plt.scatter(y_pred,df3['price'],c='r')\n",
    "plt.plot(np.arange(0,3*10**7,1000),np.arange(0,3*10**7,1000));\n",
    "plt.xlim(0,2*10**6);\n",
    "plt.ylim(0,2*10**6);\n",
    "\n",
    "\n"
   ]
  },
  {
   "cell_type": "code",
   "execution_count": 218,
   "metadata": {},
   "outputs": [
    {
     "data": {
      "text/plain": [
       "array([ 0.51058485,  0.1393392 ,  0.07411811,  0.27595784])"
      ]
     },
     "execution_count": 218,
     "metadata": {},
     "output_type": "execute_result"
    }
   ],
   "source": [
    "gbr.feature_importances_\n"
   ]
  },
  {
   "cell_type": "code",
   "execution_count": 219,
   "metadata": {},
   "outputs": [
    {
     "data": {
      "text/plain": [
       "<matplotlib.text.Text at 0x7f84f81f0dd8>"
      ]
     },
     "execution_count": 219,
     "metadata": {},
     "output_type": "execute_result"
    },
    {
     "name": "stderr",
     "output_type": "stream",
     "text": [
      "/home/ubuntu/anaconda3/lib/python3.6/site-packages/matplotlib/font_manager.py:1297: UserWarning: findfont: Font family ['sans-serif'] not found. Falling back to DejaVu Sans\n",
      "  (prop.get_family(), self.defaultFamily[fontext]))\n"
     ]
    },
    {
     "data": {
      "image/png": "[encoded data removed]",
      "text/plain": [
       "<matplotlib.figure.Figure at 0x7f84f808eda0>"
      ]
     },
     "metadata": {},
     "output_type": "display_data"
    }
   ],
   "source": [
    "# Plotting the Probability of Beautiful as sa function of price\n",
    "\n",
    "lr_prob = LinearRegression(fit_intercept=False)\n",
    "lr_prob.fit(pd.DataFrame(df_total['price']),df_total['prob'].values)\n",
    "plt.plot(np.arange(0,3000000,500000),np.arange(0,3000000,500000)*lr_prob.coef_)\n",
    "\n",
    "plt.scatter(df_total['price'],df_total['prob'])\n",
    "plt.xlim(0,2000000)\n",
    "plt.ylim(0,1)\n",
    "\n",
    "plt.xticks(np.arange(0,2000000,500000))\n",
    "plt.xlabel('Price')\n",
    "plt.ylabel('Beauty')\n",
    "\n"
   ]
  },
  {
   "cell_type": "code",
   "execution_count": 220,
   "metadata": {},
   "outputs": [
    {
     "data": {
      "text/plain": [
       "array([  6.29684945e-07])"
      ]
     },
     "execution_count": 220,
     "metadata": {},
     "output_type": "execute_result"
    }
   ],
   "source": [
    "lr_prob.coef_"
   ]
  },
  {
   "cell_type": "code",
   "execution_count": 22,
   "metadata": {},
   "outputs": [
    {
     "name": "stdout",
     "output_type": "stream",
     "text": [
      "_________________________________________________________________\n",
      "Layer (type)                 Output Shape              Param #   \n",
      "=================================================================\n",
      "input_1 (InputLayer)         (None, 224, 224, 3)       0         \n",
      "_________________________________________________________________\n",
      "block1_conv1 (Conv2D)        (None, 224, 224, 64)      1792      \n",
      "_________________________________________________________________\n",
      "block1_conv2 (Conv2D)        (None, 224, 224, 64)      36928     \n",
      "_________________________________________________________________\n",
      "block1_pool (MaxPooling2D)   (None, 112, 112, 64)      0         \n",
      "_________________________________________________________________\n",
      "block2_conv1 (Conv2D)        (None, 112, 112, 128)     73856     \n",
      "_________________________________________________________________\n",
      "block2_conv2 (Conv2D)        (None, 112, 112, 128)     147584    \n",
      "_________________________________________________________________\n",
      "block2_pool (MaxPooling2D)   (None, 56, 56, 128)       0         \n",
      "_________________________________________________________________\n",
      "block3_conv1 (Conv2D)        (None, 56, 56, 256)       295168    \n",
      "_________________________________________________________________\n",
      "block3_conv2 (Conv2D)        (None, 56, 56, 256)       590080    \n",
      "_________________________________________________________________\n",
      "block3_conv3 (Conv2D)        (None, 56, 56, 256)       590080    \n",
      "_________________________________________________________________\n",
      "block3_pool (MaxPooling2D)   (None, 28, 28, 256)       0         \n",
      "_________________________________________________________________\n",
      "block4_conv1 (Conv2D)        (None, 28, 28, 512)       1180160   \n",
      "_________________________________________________________________\n",
      "block4_conv2 (Conv2D)        (None, 28, 28, 512)       2359808   \n",
      "_________________________________________________________________\n",
      "block4_conv3 (Conv2D)        (None, 28, 28, 512)       2359808   \n",
      "_________________________________________________________________\n",
      "block4_pool (MaxPooling2D)   (None, 14, 14, 512)       0         \n",
      "_________________________________________________________________\n",
      "block5_conv1 (Conv2D)        (None, 14, 14, 512)       2359808   \n",
      "_________________________________________________________________\n",
      "block5_conv2 (Conv2D)        (None, 14, 14, 512)       2359808   \n",
      "_________________________________________________________________\n",
      "block5_conv3 (Conv2D)        (None, 14, 14, 512)       2359808   \n",
      "_________________________________________________________________\n",
      "block5_pool (MaxPooling2D)   (None, 7, 7, 512)         0         \n",
      "_________________________________________________________________\n",
      "flatten_1 (Flatten)          (None, 25088)             0         \n",
      "_________________________________________________________________\n",
      "dense_5 (Dense)              (None, 256)               6422784   \n",
      "=================================================================\n",
      "Total params: 21,137,472\n",
      "Trainable params: 6,422,784\n",
      "Non-trainable params: 14,714,688\n",
      "_________________________________________________________________\n"
     ]
    }
   ],
   "source": [
    "## putting in the vectors of the output of the neural network\n",
    "model.layers.pop()\n",
    "model.layers.pop()\n",
    "preds = Dense(256, activation='softmax')(model.layers[-1].output)\n",
    "model = Model(model.input, preds)\n",
    "model.summary()\n",
    "\n"
   ]
  },
  {
   "cell_type": "code",
   "execution_count": 61,
   "metadata": {
    "collapsed": true
   },
   "outputs": [],
   "source": [
    "oakland_dir = os.listdir('/home/ubuntu/notebooks/oakland/pics')\n",
    "temp = [int(x.split('_')[0]) for x in oakland_dir]\n",
    "beautiful_prob_dict = defaultdict(list)\n",
    "\n",
    "for n in range(min(df4.index),max(df4.index)+1):\n",
    "    temp2 = list()\n",
    "    for file in oakland_dir:\n",
    "        if int(file.split('_')[0]) == n:\n",
    "            im = Image.open('/home/ubuntu/notebooks/oakland/pics/'+file)\n",
    "            im = im.resize((img_height, img_width))\n",
    "            images = np.array([np.asarray(im)])/255\n",
    "            #model2.predict(images,batch_size=1)\n",
    "            \n",
    "            beautiful_prob_dict[n].append(model.predict(images,batch_size=1))\n",
    "    \n"
   ]
  }
 ],
 "metadata": {
  "kernelspec": {
   "display_name": "Python 3",
   "language": "python",
   "name": "python3"
  },
  "language_info": {
   "codemirror_mode": {
    "name": "ipython",
    "version": 3
   },
   "file_extension": ".py",
   "mimetype": "text/x-python",
   "name": "python",
   "nbconvert_exporter": "python",
   "pygments_lexer": "ipython3",
   "version": "3.6.1"
  }
 },
 "nbformat": 4,
 "nbformat_minor": 2
}
