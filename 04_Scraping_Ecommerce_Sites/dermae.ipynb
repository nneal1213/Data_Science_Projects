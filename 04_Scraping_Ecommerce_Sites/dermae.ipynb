{
 "cells": [
  {
   "cell_type": "code",
   "execution_count": 121,
   "metadata": {
    "collapsed": true
   },
   "outputs": [],
   "source": [
    "import json\n",
    "from bs4 import BeautifulSoup\n",
    "import pandas as pd\n",
    "import numpy as np\n",
    "import requests\n",
    "import re\n",
    "from time import sleep\n",
    "from collections import defaultdict"
   ]
  },
  {
   "cell_type": "code",
   "execution_count": 98,
   "metadata": {
    "collapsed": true
   },
   "outputs": [],
   "source": [
    "base_url = 'https://dermae.com'\n",
    "suffix_url = '/collections/all?page='\n",
    "username = 'dermae'\n"
   ]
  },
  {
   "cell_type": "code",
   "execution_count": 99,
   "metadata": {
    "collapsed": true
   },
   "outputs": [],
   "source": [
    "def get_image_url(soup):\n",
    "    \n",
    "    each_product = soup.find_all('div',{'class':'grid__item small--one-whole medium--one-half large--one-fifth product-grid-item'})\n",
    "    return ['https://'+x.img['src'].strip('/') for x in each_product]\n",
    "\n",
    "\n",
    "def get_sku(soup):\n",
    "        \n",
    "    each_product = soup.find_all('div',{'class':'grid__item small--one-whole medium--one-half large--one-fifth product-grid-item'})\n",
    "          \n",
    "    return [x['id'] for x in each_product]    \n",
    "    \n",
    "    \n",
    "\n",
    "def get_price(soup):      \n",
    "      \n",
    "    each_product = soup.find_all('div',{'class':'grid__item small--one-whole medium--one-half large--one-fifth product-grid-item'})\n",
    "    product_list = []\n",
    "\n",
    "    for product in each_product:\n",
    "\n",
    "        try:\n",
    "            if product.find('span',class_='compare-at') is not None:\n",
    "                product_list.append(float(product.find('span',class_='compare-at').text.strip().strip('$')))\n",
    "            else:\n",
    "                product_list.append(float(product.find('span',class_='price').text.strip().strip('$')))\n",
    "        \n",
    "        except ValueError:\n",
    "            \n",
    "            product_list.append(None)\n",
    "        \n",
    "    return product_list\n",
    "                                                \n",
    "                                              \n",
    "def get_product_url(soup):\n",
    "    \n",
    "    each_product = soup.find_all('div',{'class':'grid__item small--one-whole medium--one-half large--one-fifth product-grid-item'})\n",
    "     \n",
    "    return [base_url + x.find('div',{'class':'figcaption under'}).find('a')['href'] for x in each_product]   \n",
    "\n",
    "def get_product_name(soup):\n",
    "    \n",
    "    each_product = soup.find_all('div',{'class':'grid__item small--one-whole medium--one-half large--one-fifth product-grid-item'})\n",
    "    \n",
    "    return [x.find('div',class_ = 'figcaption under').find('p').text.strip() for x in each_product]"
   ]
  },
  {
   "cell_type": "code",
   "execution_count": 100,
   "metadata": {
    "collapsed": true
   },
   "outputs": [],
   "source": [
    "funcs = {'name':get_product_name,\n",
    "         'product_url' : get_product_url,\n",
    "         'price' : get_price,\n",
    "         'sku' : get_sku,\n",
    "         'image_url' : get_image_url}"
   ]
  },
  {
   "cell_type": "code",
   "execution_count": 125,
   "metadata": {
    "collapsed": true
   },
   "outputs": [],
   "source": [
    "product_dict = defaultdict(list)\n",
    "\n",
    "\n",
    "i=1\n",
    "try: r = requests.get(base_url+suffix_url+str(i))\n",
    "except ConnectionError:\n",
    "    print('Request Failed')\n",
    "\n",
    "soup = BeautifulSoup(r.text,'lxml')\n",
    "\n",
    "for key,func in funcs.items():\n",
    "    product_dict[key].extend(func(soup))\n",
    "\n",
    "while soup.find('ul',class_='pagination-custom').find('li',class_='active') is not None:\n",
    "\n",
    "    i += 1\n",
    "    try: r = requests.get(base_url+suffix_url+str(i))\n",
    "    except ConnectionError:\n",
    "        print('Request Failed')\n",
    "        break\n",
    "\n",
    "    soup = BeautifulSoup(r.text,'lxml')\n",
    "\n",
    "    for key,func in funcs.items():\n",
    "        product_dict[key].extend(func(soup))         \n",
    "\n",
    "    sleep(1)    \n",
    "    \n",
    "    \n",
    "    \n",
    "\n",
    "# Creating additional columns\n",
    "product_dict['username'] = [username for x in range(len(product_dict['name']))]\n",
    "product_dict['main_category'] = None\n",
    "product_dict['sub_category'] = None\n",
    "product_dict['product_category'] = None\n"
   ]
  },
  {
   "cell_type": "code",
   "execution_count": 127,
   "metadata": {},
   "outputs": [
    {
     "data": {
      "text/html": [
       "<div>\n",
       "<style>\n",
       "    .dataframe thead tr:only-child th {\n",
       "        text-align: right;\n",
       "    }\n",
       "\n",
       "    .dataframe thead th {\n",
       "        text-align: left;\n",
       "    }\n",
       "\n",
       "    .dataframe tbody tr th {\n",
       "        vertical-align: top;\n",
       "    }\n",
       "</style>\n",
       "<table border=\"1\" class=\"dataframe\">\n",
       "  <thead>\n",
       "    <tr style=\"text-align: right;\">\n",
       "      <th></th>\n",
       "      <th>name</th>\n",
       "      <th>product_url</th>\n",
       "      <th>main_category</th>\n",
       "      <th>sub_category</th>\n",
       "      <th>product_category</th>\n",
       "      <th>price</th>\n",
       "      <th>sku</th>\n",
       "      <th>image_url</th>\n",
       "    </tr>\n",
       "  </thead>\n",
       "  <tbody>\n",
       "    <tr>\n",
       "      <th>0</th>\n",
       "      <td>$20 Gift Card</td>\n",
       "      <td>https://dermae.com/products/gift-card</td>\n",
       "      <td>None</td>\n",
       "      <td>None</td>\n",
       "      <td>None</td>\n",
       "      <td>20.00</td>\n",
       "      <td>10815783368</td>\n",
       "      <td>https://cdn.shopify.com/s/files/1/1525/1400/pr...</td>\n",
       "    </tr>\n",
       "    <tr>\n",
       "      <th>1</th>\n",
       "      <td>$40 Gift Card</td>\n",
       "      <td>https://dermae.com/products/40-gift-card</td>\n",
       "      <td>None</td>\n",
       "      <td>None</td>\n",
       "      <td>None</td>\n",
       "      <td>40.00</td>\n",
       "      <td>60826943496</td>\n",
       "      <td>https://cdn.shopify.com/s/files/1/1525/1400/pr...</td>\n",
       "    </tr>\n",
       "    <tr>\n",
       "      <th>2</th>\n",
       "      <td>3-in-1 Hair Protection Serum</td>\n",
       "      <td>https://dermae.com/products/3-in-1-hair-protec...</td>\n",
       "      <td>None</td>\n",
       "      <td>None</td>\n",
       "      <td>None</td>\n",
       "      <td>10.99</td>\n",
       "      <td>10079341576</td>\n",
       "      <td>https://cdn.shopify.com/s/files/1/1525/1400/pr...</td>\n",
       "    </tr>\n",
       "    <tr>\n",
       "      <th>3</th>\n",
       "      <td>Age-Defying Antioxidant Day Cream</td>\n",
       "      <td>https://dermae.com/products/age-defying-antiox...</td>\n",
       "      <td>None</td>\n",
       "      <td>None</td>\n",
       "      <td>None</td>\n",
       "      <td>39.50</td>\n",
       "      <td>7966871368</td>\n",
       "      <td>https://cdn.shopify.com/s/files/1/1525/1400/pr...</td>\n",
       "    </tr>\n",
       "    <tr>\n",
       "      <th>4</th>\n",
       "      <td>Age-Defying Antioxidant Eye Cream</td>\n",
       "      <td>https://dermae.com/products/age-defying-antiox...</td>\n",
       "      <td>None</td>\n",
       "      <td>None</td>\n",
       "      <td>None</td>\n",
       "      <td>24.75</td>\n",
       "      <td>7967103368</td>\n",
       "      <td>https://cdn.shopify.com/s/files/1/1525/1400/pr...</td>\n",
       "    </tr>\n",
       "  </tbody>\n",
       "</table>\n",
       "</div>"
      ],
      "text/plain": [
       "                                name  \\\n",
       "0                      $20 Gift Card   \n",
       "1                      $40 Gift Card   \n",
       "2       3-in-1 Hair Protection Serum   \n",
       "3  Age-Defying Antioxidant Day Cream   \n",
       "4  Age-Defying Antioxidant Eye Cream   \n",
       "\n",
       "                                         product_url main_category  \\\n",
       "0              https://dermae.com/products/gift-card          None   \n",
       "1           https://dermae.com/products/40-gift-card          None   \n",
       "2  https://dermae.com/products/3-in-1-hair-protec...          None   \n",
       "3  https://dermae.com/products/age-defying-antiox...          None   \n",
       "4  https://dermae.com/products/age-defying-antiox...          None   \n",
       "\n",
       "  sub_category product_category  price          sku  \\\n",
       "0         None             None  20.00  10815783368   \n",
       "1         None             None  40.00  60826943496   \n",
       "2         None             None  10.99  10079341576   \n",
       "3         None             None  39.50   7966871368   \n",
       "4         None             None  24.75   7967103368   \n",
       "\n",
       "                                           image_url  \n",
       "0  https://cdn.shopify.com/s/files/1/1525/1400/pr...  \n",
       "1  https://cdn.shopify.com/s/files/1/1525/1400/pr...  \n",
       "2  https://cdn.shopify.com/s/files/1/1525/1400/pr...  \n",
       "3  https://cdn.shopify.com/s/files/1/1525/1400/pr...  \n",
       "4  https://cdn.shopify.com/s/files/1/1525/1400/pr...  "
      ]
     },
     "execution_count": 127,
     "metadata": {},
     "output_type": "execute_result"
    }
   ],
   "source": [
    "columns = ['name', 'product_url', 'main_category', 'sub_category', 'product_category', 'price', 'sku', 'image_url']\n",
    "df = pd.DataFrame(product_dict,columns = columns )\n",
    "df.head()"
   ]
  },
  {
   "cell_type": "code",
   "execution_count": 128,
   "metadata": {},
   "outputs": [
    {
     "data": {
      "text/plain": [
       "(100, 8)"
      ]
     },
     "execution_count": 128,
     "metadata": {},
     "output_type": "execute_result"
    }
   ],
   "source": [
    "# Dropping duplicates\n",
    "\n",
    "df2 = df.drop_duplicates(subset = ['name','sku'])\n",
    "df2.shape"
   ]
  },
  {
   "cell_type": "code",
   "execution_count": 129,
   "metadata": {
    "collapsed": true
   },
   "outputs": [],
   "source": [
    "# Exporting to csv\n",
    "\n",
    "df2.to_csv(username+'.csv',index=False)"
   ]
  },
  {
   "cell_type": "code",
   "execution_count": null,
   "metadata": {
    "collapsed": true
   },
   "outputs": [],
   "source": []
  }
 ],
 "metadata": {
  "kernelspec": {
   "display_name": "Python 3",
   "language": "python",
   "name": "python3"
  },
  "language_info": {
   "codemirror_mode": {
    "name": "ipython",
    "version": 3
   },
   "file_extension": ".py",
   "mimetype": "text/x-python",
   "name": "python",
   "nbconvert_exporter": "python",
   "pygments_lexer": "ipython3",
   "version": "3.6.3"
  }
 },
 "nbformat": 4,
 "nbformat_minor": 2
}
