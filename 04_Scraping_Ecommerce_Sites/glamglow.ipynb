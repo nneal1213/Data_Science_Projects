{
 "cells": [
  {
   "cell_type": "code",
   "execution_count": 10,
   "metadata": {
    "collapsed": true
   },
   "outputs": [],
   "source": [
    "import json\n",
    "from bs4 import BeautifulSoup\n",
    "import pandas as pd\n",
    "import numpy as np\n",
    "import requests\n",
    "from time import sleep\n",
    "from collections import defaultdict"
   ]
  },
  {
   "cell_type": "code",
   "execution_count": 11,
   "metadata": {
    "collapsed": true
   },
   "outputs": [],
   "source": [
    "base_url = 'https://www.glamglow.com'\n",
    "suffix_url = '/products/18842/shop-all'\n",
    "username = 'glamglow'\n"
   ]
  },
  {
   "cell_type": "code",
   "execution_count": 13,
   "metadata": {
    "collapsed": true
   },
   "outputs": [],
   "source": [
    "def get_image_url(soup):\n",
    "    \n",
    "    return [base_url+ x.find('img')['src'] for x in soup.find_all('div',class_ = 'product-grid__item')]\n",
    "\n",
    "def get_sku(soup):\n",
    "   \n",
    "    return  [x.find('div',{'class': 'product-thumb__image-wrapper'}).img['data-default-sku-pcode']\n",
    "            for x in soup.find_all('div',class_ = 'product-grid__item')]\n",
    "    \n",
    "\n",
    "def get_price(soup):\n",
    "    \n",
    "    try:\n",
    "        price = [float(x.find('span',class_='product_brief ').text.strip().strip('$')) for x in soup.find_all('div',class_ = 'product-grid__item')]\n",
    "     \n",
    "    except ValueError:\n",
    "        pass\n",
    "    return price\n",
    "\n",
    "def get_product_url(soup):\n",
    "     \n",
    "    return [base_url + x.find('a')['href'] for x in soup.find_all('div',class_ = 'product-grid__item')]   \n",
    "\n",
    "def get_product_name(soup):\n",
    "    \n",
    "    return [x.find('a',class_ = 'product-thumb__headline-link').text.strip('#') for x in soup.find_all('div',class_ = 'product-grid__item')]"
   ]
  },
  {
   "cell_type": "code",
   "execution_count": 14,
   "metadata": {
    "collapsed": true
   },
   "outputs": [],
   "source": [
    "funcs = {'name':get_product_name,\n",
    "         'product_url' : get_product_url,\n",
    "         'price' : get_price,\n",
    "         'sku' : get_sku,\n",
    "         'image_url' : get_image_url}"
   ]
  },
  {
   "cell_type": "code",
   "execution_count": 19,
   "metadata": {
    "collapsed": true
   },
   "outputs": [],
   "source": [
    "product_dict = defaultdict(list)\n",
    "\n",
    "try:\n",
    "    r = requests.get(base_url+suffix_url)\n",
    "    \n",
    "except ConnectionError:\n",
    "    print('Request Failed')\n",
    "    \n",
    "    \n",
    "soup = BeautifulSoup(r.text,'lxml')\n",
    "\n",
    "for key,func in funcs.items():\n",
    "    product_dict[key].extend(func(soup))\n",
    "    \n",
    "    \n",
    "# Creating additional columns\n",
    "product_dict['username'] = [username for x in range(len(product_dict['name']))]\n",
    "product_dict['main_category'] = None\n",
    "product_dict['sub_category'] = None\n",
    "product_dict['product_category'] = None"
   ]
  },
  {
   "cell_type": "code",
   "execution_count": 16,
   "metadata": {},
   "outputs": [
    {
     "data": {
      "text/html": [
       "<div>\n",
       "<style>\n",
       "    .dataframe thead tr:only-child th {\n",
       "        text-align: right;\n",
       "    }\n",
       "\n",
       "    .dataframe thead th {\n",
       "        text-align: left;\n",
       "    }\n",
       "\n",
       "    .dataframe tbody tr th {\n",
       "        vertical-align: top;\n",
       "    }\n",
       "</style>\n",
       "<table border=\"1\" class=\"dataframe\">\n",
       "  <thead>\n",
       "    <tr style=\"text-align: right;\">\n",
       "      <th></th>\n",
       "      <th>name</th>\n",
       "      <th>product_url</th>\n",
       "      <th>main_category</th>\n",
       "      <th>sub_category</th>\n",
       "      <th>product_category</th>\n",
       "      <th>price</th>\n",
       "      <th>sku</th>\n",
       "      <th>image_url</th>\n",
       "    </tr>\n",
       "  </thead>\n",
       "  <tbody>\n",
       "    <tr>\n",
       "      <th>0</th>\n",
       "      <td>GLITTERMASK GRAVITYMUD™ FIRMING TREATMENT</td>\n",
       "      <td>https://www.glamglow.com/product/18842/51072/s...</td>\n",
       "      <td>None</td>\n",
       "      <td>None</td>\n",
       "      <td>None</td>\n",
       "      <td>69.0</td>\n",
       "      <td>G0HY01</td>\n",
       "      <td>https://www.glamglow.com/media/export/cms/prod...</td>\n",
       "    </tr>\n",
       "    <tr>\n",
       "      <th>1</th>\n",
       "      <td>SUPERMUD® CLEARING TREATMENT</td>\n",
       "      <td>https://www.glamglow.com/product/18842/39399/s...</td>\n",
       "      <td>None</td>\n",
       "      <td>None</td>\n",
       "      <td>None</td>\n",
       "      <td>69.0</td>\n",
       "      <td>G06201</td>\n",
       "      <td>https://www.glamglow.com/media/export/cms/prod...</td>\n",
       "    </tr>\n",
       "    <tr>\n",
       "      <th>2</th>\n",
       "      <td>MULTIMASKING MASK TREATMENT SET</td>\n",
       "      <td>https://www.glamglow.com/product/18842/47230/s...</td>\n",
       "      <td>None</td>\n",
       "      <td>None</td>\n",
       "      <td>None</td>\n",
       "      <td>39.0</td>\n",
       "      <td>G0G101</td>\n",
       "      <td>https://www.glamglow.com/media/export/cms/prod...</td>\n",
       "    </tr>\n",
       "    <tr>\n",
       "      <th>3</th>\n",
       "      <td>GLOWSTARTER™ MEGA ILLUMINATING MOISTURIZER</td>\n",
       "      <td>https://www.glamglow.com/product/18842/41472/s...</td>\n",
       "      <td>None</td>\n",
       "      <td>None</td>\n",
       "      <td>None</td>\n",
       "      <td>49.0</td>\n",
       "      <td>G05902</td>\n",
       "      <td>https://www.glamglow.com/media/export/cms/prod...</td>\n",
       "    </tr>\n",
       "    <tr>\n",
       "      <th>4</th>\n",
       "      <td>YOUTHMUD® TINGLEXFOLIATE TREATMENT</td>\n",
       "      <td>https://www.glamglow.com/product/18842/36600/s...</td>\n",
       "      <td>None</td>\n",
       "      <td>None</td>\n",
       "      <td>None</td>\n",
       "      <td>69.0</td>\n",
       "      <td>G06501</td>\n",
       "      <td>https://www.glamglow.com/media/export/cms/prod...</td>\n",
       "    </tr>\n",
       "  </tbody>\n",
       "</table>\n",
       "</div>"
      ],
      "text/plain": [
       "                                         name  \\\n",
       "0   GLITTERMASK GRAVITYMUD™ FIRMING TREATMENT   \n",
       "1                SUPERMUD® CLEARING TREATMENT   \n",
       "2             MULTIMASKING MASK TREATMENT SET   \n",
       "3  GLOWSTARTER™ MEGA ILLUMINATING MOISTURIZER   \n",
       "4          YOUTHMUD® TINGLEXFOLIATE TREATMENT   \n",
       "\n",
       "                                         product_url main_category  \\\n",
       "0  https://www.glamglow.com/product/18842/51072/s...          None   \n",
       "1  https://www.glamglow.com/product/18842/39399/s...          None   \n",
       "2  https://www.glamglow.com/product/18842/47230/s...          None   \n",
       "3  https://www.glamglow.com/product/18842/41472/s...          None   \n",
       "4  https://www.glamglow.com/product/18842/36600/s...          None   \n",
       "\n",
       "  sub_category product_category  price     sku  \\\n",
       "0         None             None   69.0  G0HY01   \n",
       "1         None             None   69.0  G06201   \n",
       "2         None             None   39.0  G0G101   \n",
       "3         None             None   49.0  G05902   \n",
       "4         None             None   69.0  G06501   \n",
       "\n",
       "                                           image_url  \n",
       "0  https://www.glamglow.com/media/export/cms/prod...  \n",
       "1  https://www.glamglow.com/media/export/cms/prod...  \n",
       "2  https://www.glamglow.com/media/export/cms/prod...  \n",
       "3  https://www.glamglow.com/media/export/cms/prod...  \n",
       "4  https://www.glamglow.com/media/export/cms/prod...  "
      ]
     },
     "execution_count": 16,
     "metadata": {},
     "output_type": "execute_result"
    }
   ],
   "source": [
    "columns = ['name', 'product_url', 'main_category', 'sub_category', 'product_category', 'price', 'sku', 'image_url']\n",
    "df = pd.DataFrame(product_dict,columns = columns )\n",
    "df.head()"
   ]
  },
  {
   "cell_type": "code",
   "execution_count": 20,
   "metadata": {},
   "outputs": [
    {
     "data": {
      "text/plain": [
       "(54, 8)"
      ]
     },
     "execution_count": 20,
     "metadata": {},
     "output_type": "execute_result"
    }
   ],
   "source": [
    "# Dropping duplicates\n",
    "\n",
    "df2 = df.drop_duplicates(subset = ['name','sku'])\n",
    "df2.shape"
   ]
  },
  {
   "cell_type": "code",
   "execution_count": 18,
   "metadata": {
    "collapsed": true
   },
   "outputs": [],
   "source": [
    "# Exporting to csv\n",
    "\n",
    "df2.to_csv(username+'.csv',index=False)"
   ]
  },
  {
   "cell_type": "code",
   "execution_count": null,
   "metadata": {
    "collapsed": true
   },
   "outputs": [],
   "source": []
  }
 ],
 "metadata": {
  "kernelspec": {
   "display_name": "Python 3",
   "language": "python",
   "name": "python3"
  },
  "language_info": {
   "codemirror_mode": {
    "name": "ipython",
    "version": 3
   },
   "file_extension": ".py",
   "mimetype": "text/x-python",
   "name": "python",
   "nbconvert_exporter": "python",
   "pygments_lexer": "ipython3",
   "version": "3.6.3"
  }
 },
 "nbformat": 4,
 "nbformat_minor": 2
}
