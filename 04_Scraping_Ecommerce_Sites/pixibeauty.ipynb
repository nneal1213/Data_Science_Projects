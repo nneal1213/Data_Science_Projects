{
 "cells": [
  {
   "cell_type": "code",
   "execution_count": 1,
   "metadata": {
    "collapsed": true
   },
   "outputs": [],
   "source": [
    "import json\n",
    "from bs4 import BeautifulSoup\n",
    "import pandas as pd\n",
    "import numpy as np\n",
    "import requests\n",
    "import re\n",
    "from time import sleep\n",
    "from collections import defaultdict"
   ]
  },
  {
   "cell_type": "code",
   "execution_count": 2,
   "metadata": {
    "collapsed": true
   },
   "outputs": [],
   "source": [
    "base_url = 'https://www.pixibeauty.com'\n",
    "username = 'pixibeauty'\n",
    "categories = ['skintreats','makeup','kits','tools','last-chance']\n",
    "categories = ['/collections/' + x for x in categories]\n"
   ]
  },
  {
   "cell_type": "code",
   "execution_count": 3,
   "metadata": {
    "collapsed": true
   },
   "outputs": [],
   "source": [
    "def get_image_url(soup):\n",
    "    \n",
    "    each_product = soup.find_all('div',class_ = 'grid__item large--one-quarter medium-down--one-half')\n",
    "    \n",
    "    return ['https:'+x.find('img',class_='lazy')['data-original'] for x in each_product]\n",
    "\n",
    "def get_sku(soup):\n",
    "\n",
    "    each_product = soup.find('div',class_ = 'grid__item large--one-quarter medium-down--one-half')\n",
    "    \n",
    "    return [re.findall('(?<=v=).*',x)[0] for x in get_image_url(soup)]\n",
    "    \n",
    "    \n",
    "\n",
    "def get_price(soup):\n",
    "    \n",
    "    each_product = soup.find_all('div',class_ = 'grid__item large--one-quarter medium-down--one-half')\n",
    "    product_list = []\n",
    "\n",
    "    for product in each_product:\n",
    "\n",
    "        try:\n",
    "            if product.find('p',class_='price').find('s') is not None:\n",
    "                product_list.append(float(product.find('p',class_='price').find('s').text.strip('$')))\n",
    "            else:\n",
    "                product_list.append(float(product.find('p',class_='price').text.replace('NEW!','').replace('From','').strip().strip('$')))\n",
    "        \n",
    "        except ValueError:\n",
    "         \n",
    "            product_list.append(None)\n",
    "        \n",
    "    return product_list\n",
    "\n",
    "def get_product_url(soup):\n",
    "    \n",
    "    each_product = soup.find_all('div',class_ = 'grid__item large--one-quarter medium-down--one-half')\n",
    "    \n",
    "    return [base_url + x.find('a')['href'] for x in each_product]   \n",
    "\n",
    "def get_product_name(soup):\n",
    "    \n",
    "    each_product = soup.find_all('div',class_ = 'grid__item large--one-quarter medium-down--one-half')\n",
    "        \n",
    "    return [x.find('p',class_='h6').text.strip() for x in each_product]"
   ]
  },
  {
   "cell_type": "code",
   "execution_count": 4,
   "metadata": {
    "collapsed": true
   },
   "outputs": [],
   "source": [
    "funcs = {'name':get_product_name,\n",
    "         'product_url' : get_product_url,\n",
    "         'price' : get_price,\n",
    "         'sku' : get_sku,\n",
    "         'image_url' : get_image_url}"
   ]
  },
  {
   "cell_type": "code",
   "execution_count": 5,
   "metadata": {
    "collapsed": true
   },
   "outputs": [],
   "source": [
    "product_dict = defaultdict(list)\n",
    "\n",
    "for category in categories:\n",
    "    i=1\n",
    "    try: r = requests.get(base_url+category+'?page='+str(i))\n",
    "    except ConnectionError:\n",
    "        break\n",
    "       \n",
    "    soup = BeautifulSoup(r.text,'lxml')\n",
    "\n",
    "    for key,func in funcs.items():\n",
    "        product_dict[key].extend(func(soup))\n",
    "\n",
    "    while soup.find('a',class_ = 'pagination-right') is not None:    \n",
    "        i += 1\n",
    "        try: r = requests.get(base_url+category+'?page='+str(i))\n",
    "        except ConnectionError:\n",
    "            print('Request Failed')\n",
    "            break\n",
    "        \n",
    "        soup = BeautifulSoup(r.text,'lxml')\n",
    "\n",
    "        for key,func in funcs.items():\n",
    "            product_dict[key].extend(func(soup))         \n",
    "        \n",
    "        sleep(1)\n",
    "\n",
    "# Creating additional columns\n",
    "product_dict['username'] = [username for x in range(len(product_dict['name']))]\n",
    "product_dict['main_category'] = [None for x in range(len(product_dict['name']))]\n",
    "product_dict['sub_category'] = [None for x in range(len(product_dict['name']))]\n",
    "product_dict['product_category'] = [None for x in range(len(product_dict['name']))]\n"
   ]
  },
  {
   "cell_type": "code",
   "execution_count": 6,
   "metadata": {},
   "outputs": [
    {
     "data": {
      "text/html": [
       "<div>\n",
       "<style>\n",
       "    .dataframe thead tr:only-child th {\n",
       "        text-align: right;\n",
       "    }\n",
       "\n",
       "    .dataframe thead th {\n",
       "        text-align: left;\n",
       "    }\n",
       "\n",
       "    .dataframe tbody tr th {\n",
       "        vertical-align: top;\n",
       "    }\n",
       "</style>\n",
       "<table border=\"1\" class=\"dataframe\">\n",
       "  <thead>\n",
       "    <tr style=\"text-align: right;\">\n",
       "      <th></th>\n",
       "      <th>name</th>\n",
       "      <th>product_url</th>\n",
       "      <th>main_category</th>\n",
       "      <th>sub_category</th>\n",
       "      <th>product_category</th>\n",
       "      <th>price</th>\n",
       "      <th>sku</th>\n",
       "      <th>image_url</th>\n",
       "    </tr>\n",
       "  </thead>\n",
       "  <tbody>\n",
       "    <tr>\n",
       "      <th>0</th>\n",
       "      <td>Skintreat Duos - Glow Tonic (250ml) + Glow Mist</td>\n",
       "      <td>https://www.pixibeauty.com/collections/skintre...</td>\n",
       "      <td>None</td>\n",
       "      <td>None</td>\n",
       "      <td>None</td>\n",
       "      <td>38.0</td>\n",
       "      <td>1506474199</td>\n",
       "      <td>https://cdn.shopify.com/s/files/1/1463/5858/pr...</td>\n",
       "    </tr>\n",
       "    <tr>\n",
       "      <th>1</th>\n",
       "      <td>Glow Tonic 250ml</td>\n",
       "      <td>https://www.pixibeauty.com/collections/skintre...</td>\n",
       "      <td>None</td>\n",
       "      <td>None</td>\n",
       "      <td>None</td>\n",
       "      <td>29.0</td>\n",
       "      <td>1512415419</td>\n",
       "      <td>https://cdn.shopify.com/s/files/1/1463/5858/pr...</td>\n",
       "    </tr>\n",
       "    <tr>\n",
       "      <th>2</th>\n",
       "      <td>Glow Tonic 100ml</td>\n",
       "      <td>https://www.pixibeauty.com/collections/skintre...</td>\n",
       "      <td>None</td>\n",
       "      <td>None</td>\n",
       "      <td>None</td>\n",
       "      <td>15.0</td>\n",
       "      <td>1512415257</td>\n",
       "      <td>https://cdn.shopify.com/s/files/1/1463/5858/pr...</td>\n",
       "    </tr>\n",
       "    <tr>\n",
       "      <th>3</th>\n",
       "      <td>Glow Tonic 100ml (Holiday)</td>\n",
       "      <td>https://www.pixibeauty.com/collections/skintre...</td>\n",
       "      <td>None</td>\n",
       "      <td>None</td>\n",
       "      <td>None</td>\n",
       "      <td>15.0</td>\n",
       "      <td>1512005196</td>\n",
       "      <td>https://cdn.shopify.com/s/files/1/1463/5858/pr...</td>\n",
       "    </tr>\n",
       "    <tr>\n",
       "      <th>4</th>\n",
       "      <td>Glow Tonic 15ml</td>\n",
       "      <td>https://www.pixibeauty.com/collections/skintre...</td>\n",
       "      <td>None</td>\n",
       "      <td>None</td>\n",
       "      <td>None</td>\n",
       "      <td>6.0</td>\n",
       "      <td>1512415349</td>\n",
       "      <td>https://cdn.shopify.com/s/files/1/1463/5858/pr...</td>\n",
       "    </tr>\n",
       "  </tbody>\n",
       "</table>\n",
       "</div>"
      ],
      "text/plain": [
       "                                              name  \\\n",
       "0  Skintreat Duos - Glow Tonic (250ml) + Glow Mist   \n",
       "1                                 Glow Tonic 250ml   \n",
       "2                                 Glow Tonic 100ml   \n",
       "3                       Glow Tonic 100ml (Holiday)   \n",
       "4                                  Glow Tonic 15ml   \n",
       "\n",
       "                                         product_url main_category  \\\n",
       "0  https://www.pixibeauty.com/collections/skintre...          None   \n",
       "1  https://www.pixibeauty.com/collections/skintre...          None   \n",
       "2  https://www.pixibeauty.com/collections/skintre...          None   \n",
       "3  https://www.pixibeauty.com/collections/skintre...          None   \n",
       "4  https://www.pixibeauty.com/collections/skintre...          None   \n",
       "\n",
       "  sub_category product_category  price         sku  \\\n",
       "0         None             None   38.0  1506474199   \n",
       "1         None             None   29.0  1512415419   \n",
       "2         None             None   15.0  1512415257   \n",
       "3         None             None   15.0  1512005196   \n",
       "4         None             None    6.0  1512415349   \n",
       "\n",
       "                                           image_url  \n",
       "0  https://cdn.shopify.com/s/files/1/1463/5858/pr...  \n",
       "1  https://cdn.shopify.com/s/files/1/1463/5858/pr...  \n",
       "2  https://cdn.shopify.com/s/files/1/1463/5858/pr...  \n",
       "3  https://cdn.shopify.com/s/files/1/1463/5858/pr...  \n",
       "4  https://cdn.shopify.com/s/files/1/1463/5858/pr...  "
      ]
     },
     "execution_count": 6,
     "metadata": {},
     "output_type": "execute_result"
    }
   ],
   "source": [
    "columns = ['name', 'product_url', 'main_category', 'sub_category', 'product_category', 'price', 'sku', 'image_url']\n",
    "df = pd.DataFrame(product_dict,columns = columns )\n",
    "df.head()"
   ]
  },
  {
   "cell_type": "code",
   "execution_count": 7,
   "metadata": {},
   "outputs": [
    {
     "data": {
      "text/plain": [
       "(166, 8)"
      ]
     },
     "execution_count": 7,
     "metadata": {},
     "output_type": "execute_result"
    }
   ],
   "source": [
    "# Dropping duplicates\n",
    "\n",
    "df2 = df.drop_duplicates(subset = ['name','sku'])\n",
    "df2.shape"
   ]
  },
  {
   "cell_type": "code",
   "execution_count": 8,
   "metadata": {
    "collapsed": true
   },
   "outputs": [],
   "source": [
    "# Exporting to csv\n",
    "\n",
    "df2.to_csv(username+'.csv',index=False)"
   ]
  },
  {
   "cell_type": "code",
   "execution_count": null,
   "metadata": {
    "collapsed": true
   },
   "outputs": [],
   "source": []
  }
 ],
 "metadata": {
  "kernelspec": {
   "display_name": "Python 3",
   "language": "python",
   "name": "python3"
  },
  "language_info": {
   "codemirror_mode": {
    "name": "ipython",
    "version": 3
   },
   "file_extension": ".py",
   "mimetype": "text/x-python",
   "name": "python",
   "nbconvert_exporter": "python",
   "pygments_lexer": "ipython3",
   "version": "3.6.3"
  }
 },
 "nbformat": 4,
 "nbformat_minor": 2
}
