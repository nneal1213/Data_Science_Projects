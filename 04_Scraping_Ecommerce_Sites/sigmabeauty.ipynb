{
 "cells": [
  {
   "cell_type": "code",
   "execution_count": 18,
   "metadata": {
    "collapsed": true
   },
   "outputs": [],
   "source": [
    "import json\n",
    "from bs4 import BeautifulSoup\n",
    "import pandas as pd\n",
    "import numpy as np\n",
    "import requests\n",
    "import re\n",
    "from time import sleep\n",
    "from collections import defaultdict"
   ]
  },
  {
   "cell_type": "code",
   "execution_count": 19,
   "metadata": {
    "collapsed": true
   },
   "outputs": [],
   "source": [
    "base_url = 'https://www.sigmabeauty.com'\n",
    "username = 'sigmabeauty'\n",
    "\n",
    "categories = ['/c/317?pageSize=500','/c/316?pageSize=500','/brush-care/c/1151?pageSize=500']\n"
   ]
  },
  {
   "cell_type": "code",
   "execution_count": 20,
   "metadata": {
    "collapsed": true
   },
   "outputs": [],
   "source": [
    "def get_image_url(soup):\n",
    "    \n",
    "    each_product = soup.find_all('li',class_ = 'mz-productlist-item')\n",
    "   \n",
    "    return ['https:'+x.find('div',class_ = 'mz-productlisting-image').img['src'] for x in each_product]\n",
    "\n",
    "def get_sku(soup): \n",
    "    \n",
    "    each_product = soup.find_all('li',class_ = 'mz-productlist-item')\n",
    "    \n",
    "    return [x.find('div',class_='bvr-inline-rating')['data-mz-product-code'] for x in each_product]    \n",
    "    \n",
    "    \n",
    "\n",
    "def get_price(soup):\n",
    "\n",
    "    each_product = soup.find_all('li',class_ = 'mz-productlist-item')\n",
    "    product_list = []\n",
    "\n",
    "    for product in each_product:\n",
    "\n",
    "        try:\n",
    "            if product.find('span',class_='mz-price is-crossedout') is not None:\n",
    "                product_list.append(float(product.find('span',class_='mz-price is-crossedout').text.strip('$')))\n",
    "            else:\n",
    "                product_list.append(float(product.find('span',class_='mz-price').text.strip('$')))\n",
    "        \n",
    "        except ValueError:\n",
    "         \n",
    "            product_list.append(None)\n",
    "        \n",
    "    return product_list\n",
    "\n",
    "\n",
    "def get_product_url(soup):\n",
    "     \n",
    "    each_product = soup.find_all('li',class_ = 'mz-productlist-item')    \n",
    "        \n",
    "    return [base_url + x.find('a')['href'] for x in each_product]   \n",
    "\n",
    "def get_product_name(soup):\n",
    "    \n",
    "    each_product = soup.find_all('div',class_ = 'mz-productlisting-productcode')\n",
    "    \n",
    "    return [x.text for x in each_product]"
   ]
  },
  {
   "cell_type": "code",
   "execution_count": 21,
   "metadata": {
    "collapsed": true
   },
   "outputs": [],
   "source": [
    "funcs = {'name':get_product_name,\n",
    "         'product_url' : get_product_url,\n",
    "         'price' : get_price,\n",
    "         'sku' : get_sku,\n",
    "         'image_url' : get_image_url}"
   ]
  },
  {
   "cell_type": "code",
   "execution_count": 22,
   "metadata": {
    "collapsed": true
   },
   "outputs": [],
   "source": [
    "product_dict = defaultdict(list)\n",
    "\n",
    "for category in categories:\n",
    "    try:\n",
    "        r = requests.get(base_url+category)\n",
    "    except ConnectionError:\n",
    "        print('Request Failed')\n",
    "        break\n",
    "    \n",
    "    soup = BeautifulSoup(r.text,'lxml')\n",
    "\n",
    "    for key,func in funcs.items():\n",
    "        product_dict[key].extend(func(soup))\n",
    "\n",
    "    \n",
    "# Creating additional columns\n",
    "product_dict['username'] = [username for x in range(len(product_dict['name']))]\n",
    "product_dict['main_category'] = None\n",
    "product_dict['sub_category'] = None\n",
    "product_dict['product_category'] = None\n"
   ]
  },
  {
   "cell_type": "code",
   "execution_count": 23,
   "metadata": {},
   "outputs": [
    {
     "data": {
      "text/html": [
       "<div>\n",
       "<style>\n",
       "    .dataframe thead tr:only-child th {\n",
       "        text-align: right;\n",
       "    }\n",
       "\n",
       "    .dataframe thead th {\n",
       "        text-align: left;\n",
       "    }\n",
       "\n",
       "    .dataframe tbody tr th {\n",
       "        vertical-align: top;\n",
       "    }\n",
       "</style>\n",
       "<table border=\"1\" class=\"dataframe\">\n",
       "  <thead>\n",
       "    <tr style=\"text-align: right;\">\n",
       "      <th></th>\n",
       "      <th>name</th>\n",
       "      <th>product_url</th>\n",
       "      <th>main_category</th>\n",
       "      <th>sub_category</th>\n",
       "      <th>product_category</th>\n",
       "      <th>price</th>\n",
       "      <th>sku</th>\n",
       "      <th>image_url</th>\n",
       "    </tr>\n",
       "  </thead>\n",
       "  <tbody>\n",
       "    <tr>\n",
       "      <th>0</th>\n",
       "      <td>3DHD® - Kabuki Brush</td>\n",
       "      <td>https://www.sigmabeauty.com/3dhd-kabuki/p/3DK</td>\n",
       "      <td>None</td>\n",
       "      <td>None</td>\n",
       "      <td>None</td>\n",
       "      <td>25.0</td>\n",
       "      <td>3DK</td>\n",
       "      <td>https://cdn-tp1.mozu.com/7907-10193/cms/10193/...</td>\n",
       "    </tr>\n",
       "    <tr>\n",
       "      <th>1</th>\n",
       "      <td>3DHD® - Precision Brush</td>\n",
       "      <td>https://www.sigmabeauty.com/3dhd-precision/p/3DP</td>\n",
       "      <td>None</td>\n",
       "      <td>None</td>\n",
       "      <td>None</td>\n",
       "      <td>20.0</td>\n",
       "      <td>3DP</td>\n",
       "      <td>https://cdn-tp1.mozu.com/7907-10193/cms/10193/...</td>\n",
       "    </tr>\n",
       "    <tr>\n",
       "      <th>2</th>\n",
       "      <td>3DHD® Max Kabuki</td>\n",
       "      <td>https://www.sigmabeauty.com/3dhd-max-kabuki/p/...</td>\n",
       "      <td>None</td>\n",
       "      <td>None</td>\n",
       "      <td>None</td>\n",
       "      <td>27.0</td>\n",
       "      <td>3DK-M</td>\n",
       "      <td>https://cdn-tp1.mozu.com/7907-10193/cms/10193/...</td>\n",
       "    </tr>\n",
       "    <tr>\n",
       "      <th>3</th>\n",
       "      <td>3DHD® Precision - Pink</td>\n",
       "      <td>https://www.sigmabeauty.com/3dhd-precision-pin...</td>\n",
       "      <td>None</td>\n",
       "      <td>None</td>\n",
       "      <td>None</td>\n",
       "      <td>20.0</td>\n",
       "      <td>3DP-P</td>\n",
       "      <td>https://cdn-tp1.mozu.com/7907-10193/cms/10193/...</td>\n",
       "    </tr>\n",
       "    <tr>\n",
       "      <th>4</th>\n",
       "      <td>3DHD® Precision - White</td>\n",
       "      <td>https://www.sigmabeauty.com/3dhd-precision-whi...</td>\n",
       "      <td>None</td>\n",
       "      <td>None</td>\n",
       "      <td>None</td>\n",
       "      <td>20.0</td>\n",
       "      <td>3DP-W</td>\n",
       "      <td>https://cdn-tp1.mozu.com/7907-10193/cms/10193/...</td>\n",
       "    </tr>\n",
       "  </tbody>\n",
       "</table>\n",
       "</div>"
      ],
      "text/plain": [
       "                      name                                        product_url  \\\n",
       "0     3DHD® - Kabuki Brush      https://www.sigmabeauty.com/3dhd-kabuki/p/3DK   \n",
       "1  3DHD® - Precision Brush   https://www.sigmabeauty.com/3dhd-precision/p/3DP   \n",
       "2         3DHD® Max Kabuki  https://www.sigmabeauty.com/3dhd-max-kabuki/p/...   \n",
       "3   3DHD® Precision - Pink  https://www.sigmabeauty.com/3dhd-precision-pin...   \n",
       "4  3DHD® Precision - White  https://www.sigmabeauty.com/3dhd-precision-whi...   \n",
       "\n",
       "  main_category sub_category product_category  price    sku  \\\n",
       "0          None         None             None   25.0    3DK   \n",
       "1          None         None             None   20.0    3DP   \n",
       "2          None         None             None   27.0  3DK-M   \n",
       "3          None         None             None   20.0  3DP-P   \n",
       "4          None         None             None   20.0  3DP-W   \n",
       "\n",
       "                                           image_url  \n",
       "0  https://cdn-tp1.mozu.com/7907-10193/cms/10193/...  \n",
       "1  https://cdn-tp1.mozu.com/7907-10193/cms/10193/...  \n",
       "2  https://cdn-tp1.mozu.com/7907-10193/cms/10193/...  \n",
       "3  https://cdn-tp1.mozu.com/7907-10193/cms/10193/...  \n",
       "4  https://cdn-tp1.mozu.com/7907-10193/cms/10193/...  "
      ]
     },
     "execution_count": 23,
     "metadata": {},
     "output_type": "execute_result"
    }
   ],
   "source": [
    "columns = ['name', 'product_url', 'main_category', 'sub_category', 'product_category', 'price', 'sku', 'image_url']\n",
    "df = pd.DataFrame(product_dict,columns = columns )\n",
    "df.head()"
   ]
  },
  {
   "cell_type": "code",
   "execution_count": 24,
   "metadata": {},
   "outputs": [
    {
     "data": {
      "text/plain": [
       "(234, 8)"
      ]
     },
     "execution_count": 24,
     "metadata": {},
     "output_type": "execute_result"
    }
   ],
   "source": [
    "# Dropping duplicates\n",
    "\n",
    "df2 = df.drop_duplicates(subset = ['name','sku'])\n",
    "df2.shape"
   ]
  },
  {
   "cell_type": "code",
   "execution_count": 25,
   "metadata": {
    "collapsed": true
   },
   "outputs": [],
   "source": [
    "# Exporting to csv\n",
    "\n",
    "df2.to_csv(username+'.csv',index=False)"
   ]
  },
  {
   "cell_type": "code",
   "execution_count": null,
   "metadata": {
    "collapsed": true
   },
   "outputs": [],
   "source": []
  }
 ],
 "metadata": {
  "kernelspec": {
   "display_name": "Python 3",
   "language": "python",
   "name": "python3"
  },
  "language_info": {
   "codemirror_mode": {
    "name": "ipython",
    "version": 3
   },
   "file_extension": ".py",
   "mimetype": "text/x-python",
   "name": "python",
   "nbconvert_exporter": "python",
   "pygments_lexer": "ipython3",
   "version": "3.6.3"
  }
 },
 "nbformat": 4,
 "nbformat_minor": 2
}
