{
 "cells": [
  {
   "cell_type": "markdown",
   "metadata": {},
   "source": [
    "As part of this project, I wanted to look to see if it's possible to use NLP to parse the words in order to predict the numbers of stars given by the review.  The dataset used is the Yelp Dataset: Round 11: https://www.yelp.com/dataset/challenge\n",
    "\n",
    "Techniques\n",
    "\n",
    "1) I wanted to look at restaurants reviews, and therefore it was necessary to sift through the business.json to only extract relevant ones.  As choice of data structure, I had stored the IDs in a set given the fast O(1) lookup.  \n",
    "\n",
    "\n",
    "2) After determining the number of rows in the review.json file, I had extracted the text and star rating from the file by parsing the json file using the readline generator.  The parsing of 3 million rows took less than a minute thanks to fast lookup of the set and preallocation of numpy arrays. Upon extraction, the null entries were removed.  \n",
    "\n",
    "\n",
    "3) 3 Vectorizers (Count,TFIDF, and Hashing) were tested on their memory allocation, runtime, and modeling results.  The choice of model for this problem is the SGDRegressor, which trains on a batch of data at a time, making it a very attractive selection.  It was found that the HashingVectorizer was the best.\n",
    "\n",
    "\n",
    "4) A pipeline was built, and GridSearchCV was performed on approximately 1/7 of the data.  It was found that the R2 to be 0.59 using optimal parameters.  To test for whether this result can be extended to the rest of the data, the model was applied to the holdout set (6/7 of the data) and the R2 was found to be 0.61.  Therefore we can conclude that this model is generalizable."
   ]
  },
  {
   "cell_type": "code",
   "execution_count": 1,
   "metadata": {},
   "outputs": [],
   "source": [
    "import pandas as pd\n",
    "import numpy as np\n",
    "import json\n",
    "import time\n",
    "import pickle\n",
    "\n",
    "from sklearn.feature_extraction.text import CountVectorizer, TfidfVectorizer, HashingVectorizer\n",
    "from sklearn.linear_model import SGDRegressor\n",
    "from sklearn.preprocessing import Binarizer\n",
    "from sklearn.model_selection import GridSearchCV, train_test_split\n",
    "from sklearn.pipeline import Pipeline\n",
    "from sklearn.metrics import r2_score\n",
    "\n",
    "import matplotlib.pyplot as plt\n",
    "%matplotlib inline\n"
   ]
  },
  {
   "cell_type": "code",
   "execution_count": 2,
   "metadata": {},
   "outputs": [],
   "source": [
    "def finding_business_id(key,name):\n",
    "        \n",
    "    \"\"\"\n",
    "    Finding business IDs that are restaurants\n",
    "    \"\"\"\n",
    "    \n",
    "    with open('business.json') as f:\n",
    "        \n",
    "        df = f.readlines()\n",
    "        business_id = set()\n",
    "        \n",
    "        for n in range(len(df)):\n",
    "            \n",
    "            json_dict = json.loads(df[n])\n",
    "            condition1 = key in json_dict.keys()\n",
    "            condition2 = name in json_dict[key]\n",
    "\n",
    "            if condition1 & condition2:\n",
    "\n",
    "                business_id.add(json_dict['business_id'])\n",
    "        \n",
    "    return business_id\n"
   ]
  },
  {
   "cell_type": "code",
   "execution_count": 3,
   "metadata": {},
   "outputs": [],
   "source": [
    "def determine_row(file):\n",
    "    \n",
    "    \"\"\"\n",
    "    This function determines the number of rows within a file\n",
    "    \"\"\"\n",
    "    with open(file, encoding='UTF-8') as f:\n",
    "        \n",
    "        n = 0 \n",
    "        while f.readline():\n",
    "            n += 1\n",
    "        \n",
    "    return n\n"
   ]
  },
  {
   "cell_type": "code",
   "execution_count": 4,
   "metadata": {},
   "outputs": [],
   "source": [
    "def parse_text_stars_users(total_row_num):\n",
    "\n",
    "    \"\"\"\n",
    "    Parsing the stars and text from review.json.  \n",
    "    Keeping total_row_num as an argument in case user does't want to parse entire text\n",
    "    \"\"\"\n",
    "    text_array = np.array(['' for x in range(total_row_num)],dtype='object')\n",
    "    stars_array = np.array([0 for x in range(total_row_num)],dtype='uint8')\n",
    "    user_array = np.array(['' for x in range(total_row_num)],dtype='object')\n",
    "    \n",
    "    with open('review.json',encoding='UTF-8') as f:\n",
    "        line = f.readline()\n",
    "        n = 0\n",
    "\n",
    "        while line:\n",
    "\n",
    "            if n >=(total_row_num):\n",
    "                break\n",
    "\n",
    "            # Parsing the line\n",
    "            json_dict = json.loads(line)\n",
    "\n",
    "            condition1 = json_dict['business_id'] in restaurant_business_id\n",
    "            condition2 = 'text' in json_dict.keys()\n",
    "            condition3 = json_dict['text'] is not None\n",
    "\n",
    "            # If the restaurant is a business, there is a text category and it is not empty, then retrieve data\n",
    "            if condition1 & condition2 & condition3:\n",
    "\n",
    "                text_array[n] = json_dict['text']\n",
    "                stars_array[n] = json_dict['stars']\n",
    "                user_array[n] = json_dict['user_id']\n",
    "                \n",
    "            n+=1\n",
    "            line = f.readline()\n",
    "\n",
    "\n",
    "    stars_array = stars_array[text_array != '']\n",
    "    user_array = user_array[text_array != '']\n",
    "    text_array = text_array[text_array != '']\n",
    "    \n",
    "\n",
    "    return text_array,stars_array, user_array\n"
   ]
  },
  {
   "cell_type": "code",
   "execution_count": 5,
   "metadata": {},
   "outputs": [
    {
     "name": "stdout",
     "output_type": "stream",
     "text": [
      "Time spent:50.19249653816223 secs\n",
      "Number of reviews:3221419 \n"
     ]
    }
   ],
   "source": [
    "# Determining unique business IDs and number of rows within review file\n",
    "\n",
    "begin = time.time()\n",
    "\n",
    "restaurant_business_id = finding_business_id('categories', 'Restaurants')\n",
    "total_row_num = determine_row('review.json')\n",
    "text_array,stars_array, user_array = parse_text_stars_users(total_row_num)\n",
    "\n",
    "print('Time spent:{} secs'.format(time.time()-begin))\n",
    "print('Number of reviews:{} '.format(text_array.shape[0]))\n"
   ]
  },
  {
   "cell_type": "code",
   "execution_count": 6,
   "metadata": {},
   "outputs": [],
   "source": [
    "def transformation(transformer, text_array, dtype):\n",
    "    \"\"\"\n",
    "    Applies the appropriate NLP transformation upon the text data\n",
    "    \"\"\"\n",
    "\n",
    "    begin = time.time()\n",
    "\n",
    "    matrix = transformer.fit_transform(text_array)\n",
    "    print('Memory Usage (MB): {}'.format(matrix.data.nbytes/1024**2))\n",
    "    print('Time spent:{}'.format(time.time()-begin))\n",
    "    return matrix\n"
   ]
  },
  {
   "cell_type": "code",
   "execution_count": 7,
   "metadata": {},
   "outputs": [],
   "source": [
    "def train_model(model, matrix, stars_array):\n",
    "    \"\"\"\n",
    "    Training the model upon the sparse matrix provided\n",
    "    \"\"\"\n",
    "    X_train, X_test, y_train, y_test = train_test_split(matrix, stars_array, test_size=0.3)\n",
    "    model.fit(X_train, y_train)\n",
    "    y_pred = model.predict(X_test)\n",
    "    \n",
    "    print('R2 value: {}'.format(r2_score(y_test, y_pred)))\n",
    "    plt.scatter(y_test, y_pred, alpha=0.05)\n",
    "    plt.xlabel('True')\n",
    "    plt.ylabel('Predicted')\n",
    "    plt.plot(np.arange(6), np.arange(6))\n",
    "    \n",
    "    return model    \n"
   ]
  },
  {
   "cell_type": "code",
   "execution_count": 8,
   "metadata": {},
   "outputs": [],
   "source": [
    "def create_random_indices(array, num_rows_text):\n",
    "    \"\"\"\n",
    "    Generates indices from an array through random sampling. \n",
    "    Use this method instead of sampling without replacement because of speed\n",
    "    \"\"\"\n",
    "\n",
    "    # if number of rows is equal or greater to array length\n",
    "    if num_rows_text > text_array.shape[0]:\n",
    "        \n",
    "        return_array = np.arange(array.shape[0], dtype='uint64')\n",
    "        print('Number of unique indices: {}'.format(return_array.shape[0]))\n",
    "        \n",
    "        return return_array\n",
    "    \n",
    "    # if number of rows is less to array length, we will append additional batches until we get to desired length\n",
    "    else:\n",
    "        \n",
    "        indices = np.random.randint(0, array.shape[0], size=num_rows_text)\n",
    "        indices = np.unique(indices)\n",
    "        while indices.shape[0] < num_rows_text:\n",
    "            indices = np.unique(\n",
    "                np.append(indices, np.random.randint(0, array.shape[0], size=num_rows_text))\n",
    "            )\n",
    "            \n",
    "        print('Number of unique indices: {}'.format(indices[:num_rows_text].shape[0]))\n",
    "        \n",
    "        return indices[:num_rows_text]\n",
    "    "
   ]
  },
  {
   "cell_type": "code",
   "execution_count": 13,
   "metadata": {},
   "outputs": [
    {
     "name": "stdout",
     "output_type": "stream",
     "text": [
      "Number of unique indices: 300000\n"
     ]
    }
   ],
   "source": [
    "# Generating indices for sampling\n",
    "\n",
    "num_rows_text = 300000   # Modify here\n",
    "random_indices = create_random_indices(text_array, num_rows_text)\n"
   ]
  },
  {
   "cell_type": "code",
   "execution_count": 14,
   "metadata": {},
   "outputs": [
    {
     "name": "stdout",
     "output_type": "stream",
     "text": [
      "Memory Usage (MB): 97.76039123535156\n",
      "Time spent:17.433571815490723\n",
      "R2 value: 0.5719833043130558\n"
     ]
    },
    {
     "data": {
      "text/plain": [
       "SGDRegressor(alpha=0.0001, average=False, epsilon=0.1, eta0=0.01,\n",
       "       fit_intercept=True, l1_ratio=0.15, learning_rate='invscaling',\n",
       "       loss='squared_loss', max_iter=50, n_iter=None, penalty='l1',\n",
       "       power_t=0.25, random_state=100, shuffle=True, tol=None, verbose=0,\n",
       "       warm_start=False)"
      ]
     },
     "execution_count": 14,
     "metadata": {},
     "output_type": "execute_result"
    },
    {
     "data": {
      "image/png": "[encoded data removed]",
      "text/plain": [
       "<matplotlib.figure.Figure at 0x1ce0476fb38>"
      ]
     },
     "metadata": {},
     "output_type": "display_data"
    }
   ],
   "source": [
    "# countvectorizer training on portion of data\n",
    "\n",
    "cv_matrix = transformation(CountVectorizer(stop_words = 'english'), text_array[random_indices], 'uint16')\n",
    "Binarizer(copy=False).fit_transform(cv_matrix)\n",
    "train_model(SGDRegressor(max_iter=50, random_state=100, penalty='l1'), cv_matrix,stars_array[random_indices])\n"
   ]
  },
  {
   "cell_type": "code",
   "execution_count": 15,
   "metadata": {},
   "outputs": [
    {
     "name": "stdout",
     "output_type": "stream",
     "text": [
      "Memory Usage (MB): 97.76039123535156\n",
      "Time spent:17.4855055809021\n",
      "R2 value: 0.5763197977645726\n"
     ]
    },
    {
     "data": {
      "text/plain": [
       "SGDRegressor(alpha=0.0001, average=False, epsilon=0.1, eta0=0.01,\n",
       "       fit_intercept=True, l1_ratio=0.15, learning_rate='invscaling',\n",
       "       loss='squared_loss', max_iter=50, n_iter=None, penalty='l1',\n",
       "       power_t=0.25, random_state=100, shuffle=True, tol=None, verbose=0,\n",
       "       warm_start=False)"
      ]
     },
     "execution_count": 15,
     "metadata": {},
     "output_type": "execute_result"
    },
    {
     "data": {
      "image/png": "[encoded data removed]",
      "text/plain": [
       "<matplotlib.figure.Figure at 0x1ce021e3668>"
      ]
     },
     "metadata": {},
     "output_type": "display_data"
    }
   ],
   "source": [
    "# TFIDF training\n",
    "\n",
    "tfidf_matrix = transformation(TfidfVectorizer(stop_words='english'), \n",
    "                              text_array[random_indices], 'float16')\n",
    "\n",
    "train_model(SGDRegressor(max_iter=50, random_state=100, penalty='l1'), \n",
    "            tfidf_matrix, stars_array[random_indices])\n"
   ]
  },
  {
   "cell_type": "code",
   "execution_count": 16,
   "metadata": {},
   "outputs": [
    {
     "name": "stdout",
     "output_type": "stream",
     "text": [
      "Memory Usage (MB): 97.75920104980469\n",
      "Time spent:14.845510482788086\n",
      "R2 value: 0.5763847694501287\n"
     ]
    },
    {
     "data": {
      "image/png": "[encoded data removed]",
      "text/plain": [
       "<matplotlib.figure.Figure at 0x1ce047804e0>"
      ]
     },
     "metadata": {},
     "output_type": "display_data"
    }
   ],
   "source": [
    "# HashVectorizer training\n",
    "\n",
    "hash_matrix = transformation(HashingVectorizer(stop_words='english'),\n",
    "                             text_array[random_indices], 'float16')\n",
    "sgd_hashing = train_model(SGDRegressor(max_iter=50, random_state=100, penalty='l1'),\n",
    "                          hash_matrix, stars_array[random_indices])\n"
   ]
  },
  {
   "cell_type": "markdown",
   "metadata": {},
   "source": [
    "I've decided upon the HashVectorizer as the transformer"
   ]
  },
  {
   "cell_type": "code",
   "execution_count": 17,
   "metadata": {},
   "outputs": [],
   "source": [
    "pipeline = Pipeline([('hashing', HashingVectorizer(stop_words='english')),\n",
    "                     ('sgd', SGDRegressor(max_iter=50, random_state=100))                          \n",
    "                     ])\n",
    "\n",
    "parameters = {'hashing__ngram_range': [(1, 1), (1, 2)],\n",
    "              'sgd__alpha': (3e-4, 1e-4, 3e-5),\n",
    "              'sgd__penalty':('l2', 'l1')\n",
    "              }\n"
   ]
  },
  {
   "cell_type": "code",
   "execution_count": 18,
   "metadata": {},
   "outputs": [
    {
     "name": "stdout",
     "output_type": "stream",
     "text": [
      "Best Score: 0.5948752208501277\n",
      "Best Parameters: {'hashing__ngram_range': (1, 1), 'sgd__alpha': 3e-05, 'sgd__penalty': 'l2'}\n"
     ]
    },
    {
     "data": {
      "text/plain": [
       "1551.0159046649933"
      ]
     },
     "execution_count": 18,
     "metadata": {},
     "output_type": "execute_result"
    }
   ],
   "source": [
    "begin = time.time()\n",
    "\n",
    "gs_reg = GridSearchCV(pipeline, parameters, scoring='r2')\n",
    "gs_reg.fit(text_array[random_indices], stars_array[random_indices])\n",
    "\n",
    "print('Best Score: {}'.format(gs_reg.best_score_))\n",
    "print('Best Parameters: {}'.format(gs_reg.best_params_))\n",
    "print('Time spent:{}'.format(time.time()-begin))\n"
   ]
  },
  {
   "cell_type": "code",
   "execution_count": 21,
   "metadata": {},
   "outputs": [
    {
     "name": "stdout",
     "output_type": "stream",
     "text": [
      "R2 for the rest of the dataset: 0.6133884094409179\n"
     ]
    }
   ],
   "source": [
    "y_pred = gs_reg.predict(text_array[~random_indices])\n",
    "print('R2 for the rest of the dataset: {}'.format(r2_score(stars_array[~random_indices], y_pred)))\n"
   ]
  },
  {
   "cell_type": "code",
   "execution_count": null,
   "metadata": {},
   "outputs": [],
   "source": [
    "# Saving model to file\n",
    "pickle.dump(gs_clf, open( \"gridsearch.p\", \"wb\" ))\n"
   ]
  },
  {
   "cell_type": "code",
   "execution_count": null,
   "metadata": {},
   "outputs": [],
   "source": []
  }
 ],
 "metadata": {
  "kernelspec": {
   "display_name": "Python 3",
   "language": "python",
   "name": "python3"
  },
  "language_info": {
   "codemirror_mode": {
    "name": "ipython",
    "version": 3
   },
   "file_extension": ".py",
   "mimetype": "text/x-python",
   "name": "python",
   "nbconvert_exporter": "python",
   "pygments_lexer": "ipython3",
   "version": "3.6.4"
  }
 },
 "nbformat": 4,
 "nbformat_minor": 2
}
