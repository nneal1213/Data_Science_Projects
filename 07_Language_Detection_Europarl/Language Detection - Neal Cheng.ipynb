{
 "cells": [
  {
   "cell_type": "code",
   "execution_count": 277,
   "metadata": {},
   "outputs": [],
   "source": [
    "import os\n",
    "import re\n",
    "import string\n",
    "import numpy as np\n",
    "import pandas as pd\n",
    "import time\n",
    "import itertools\n",
    "from collections import Counter, defaultdict\n",
    "\n",
    "from scipy.sparse import csr_matrix\n",
    "from sklearn.preprocessing import Binarizer, LabelEncoder\n",
    "from sklearn.feature_extraction.text import HashingVectorizer\n",
    "from sklearn.svm import LinearSVC \n",
    "from sklearn.model_selection import train_test_split, GridSearchCV\n",
    "from sklearn.metrics import accuracy_score\n",
    "from sklearn.pipeline import Pipeline\n",
    "\n",
    "import matplotlib.pyplot as plt\n",
    "import seaborn as sns\n",
    "%matplotlib inline"
   ]
  },
  {
   "cell_type": "code",
   "execution_count": 2,
   "metadata": {},
   "outputs": [],
   "source": [
    "lang_dir = os.listdir('txt')\n",
    "\n",
    "# Calculating total number of files\n",
    "gen = (x for x in lang_dir)\n",
    "total_num_file = sum(len(os.listdir('txt'+'\\\\'+x)) for x in gen)"
   ]
  },
  {
   "cell_type": "code",
   "execution_count": 24,
   "metadata": {},
   "outputs": [],
   "source": [
    "# Creating a dictionary of languages and files\n",
    "directory_dict = defaultdict(list)\n",
    "for lang in lang_dir:\n",
    "    file_list = os.listdir('txt'+'\\\\'+lang)\n",
    "    for file in file_list:\n",
    "        directory_dict[lang].append(file)"
   ]
  },
  {
   "cell_type": "code",
   "execution_count": 40,
   "metadata": {},
   "outputs": [
    {
     "name": "stdout",
     "output_type": "stream",
     "text": [
      "Number of chars extracted 285\n"
     ]
    }
   ],
   "source": [
    "# opening each file and reading characters\n",
    "\n",
    "num_sample_per_dir = 100\n",
    "set_char = list()\n",
    "\n",
    "for lang in directory_dict.keys():\n",
    "    file_list = directory_dict[lang][:100]\n",
    "    for file in file_list:\n",
    "        filename = 'txt'+'\\\\'+lang+'\\\\'+file\n",
    "        with open(filename, encoding = 'utf-8') as f:\n",
    "            set_char.append(set(f.read()))\n",
    "\n",
    "# unionizing the list\n",
    "set_char = set.union(*set_char)\n",
    "# getting rid of punctuation, whitespace, and digits\n",
    "set_char = set_char.difference(string.punctuation + string.whitespace + string.digits)\n",
    "print('Number of chars extracted {}'.format(len(set_char)))"
   ]
  },
  {
   "cell_type": "code",
   "execution_count": 63,
   "metadata": {},
   "outputs": [],
   "source": [
    "# Creating a dictionary mapping chars to indices\n",
    "\n",
    "char_dict = defaultdict(str)\n",
    "n = 0\n",
    "for char in set_char:\n",
    "    char_dict[char] = n\n",
    "    n += 1\n",
    "\n",
    "max_index = n"
   ]
  },
  {
   "cell_type": "code",
   "execution_count": 156,
   "metadata": {},
   "outputs": [],
   "source": [
    "# Create character count vectorizer\n",
    "\n",
    "def create_char_count_array(text, lang, X, y, index):\n",
    "    temp_array = np.zeros(max_index, dtype = 'int')\n",
    "    file_chars = set(text).intersection(set_char)\n",
    "    for char in file_chars:\n",
    "        temp_array[char_dict[char]] = 1\n",
    "\n",
    "    X[index] = temp_array\n",
    "    y[index] = lang\n",
    "\n",
    "    return X,y"
   ]
  },
  {
   "cell_type": "code",
   "execution_count": 254,
   "metadata": {},
   "outputs": [
    {
     "name": "stdout",
     "output_type": "stream",
     "text": [
      "Time Spent: 413.07 secs\n"
     ]
    }
   ],
   "source": [
    "# Predicting\n",
    "\n",
    "# edit this\n",
    "num_files_per_dir = 6576\n",
    "\n",
    "begin = time.time()\n",
    "X = np.zeros(shape = (num_files_per_dir*len(directory_dict.keys()),len(set_char)))\n",
    "y = np.zeros(shape = num_files_per_dir*len(directory_dict.keys()), dtype = 'object')\n",
    "n = 0\n",
    "for lang in directory_dict.keys():\n",
    "    file_list = directory_dict[lang][:num_files_per_dir]\n",
    "    for file in file_list:\n",
    "        filename = 'txt'+'\\\\'+lang+'\\\\'+file\n",
    "        with open(filename, encoding = 'utf-8') as f:\n",
    "            try:\n",
    "                X, y = create_char_count_array(f.read(),lang, X, y, n)  \n",
    "                n += 1\n",
    "            except:\n",
    "                continue\n",
    "print('Time Spent: {:0.2f} secs'.format(time.time()-begin))\n"
   ]
  },
  {
   "cell_type": "code",
   "execution_count": 267,
   "metadata": {},
   "outputs": [],
   "source": [
    "# Removing elements that failed\n",
    "\n",
    "X = np.delete(X,np.where(y==0)[0][0],axis=0)\n",
    "y = np.delete(y,np.where(y==0)[0][0])"
   ]
  },
  {
   "cell_type": "code",
   "execution_count": 268,
   "metadata": {},
   "outputs": [],
   "source": [
    "# Split into train and validation sets\n",
    "\n",
    "X_train, X_test, y_train, y_test = train_test_split(X,y,test_size=0.3)"
   ]
  },
  {
   "cell_type": "code",
   "execution_count": 269,
   "metadata": {},
   "outputs": [],
   "source": [
    "# Building pipeline\n",
    "pipeline = Pipeline([('SVC',LinearSVC())])\n",
    "param_grid = [{'SVC__C':np.arange(0.2,1,0.1)}]"
   ]
  },
  {
   "cell_type": "code",
   "execution_count": 270,
   "metadata": {},
   "outputs": [
    {
     "name": "stdout",
     "output_type": "stream",
     "text": [
      "Best Parameters:{'SVC__C': 0.9000000000000001}\n",
      "Accuracy Score: 0.9414419850829129\n",
      "Time Spent: 343.84 secs\n"
     ]
    }
   ],
   "source": [
    "# Performing grid search\n",
    "\n",
    "begin = time.time()\n",
    "\n",
    "gs = GridSearchCV(pipeline,param_grid=param_grid)\n",
    "gs.fit(X_train,y_train)\n",
    "y_pred = gs.predict(X_test)\n",
    "\n",
    "print('Best Parameters:{}'.format(gs.best_params_))\n",
    "print('Accuracy Score: {}'.format(accuracy_score(y_test,y_pred)))\n",
    "print('Time Spent: {:0.2f} secs'.format(time.time()-begin))\n"
   ]
  },
  {
   "cell_type": "code",
   "execution_count": 346,
   "metadata": {},
   "outputs": [],
   "source": [
    "y_pred = gs.predict(X_test)\n",
    "df_training_set = calculate_accuracy_over_languages(y_test,y_pred)\n"
   ]
  },
  {
   "cell_type": "code",
   "execution_count": 271,
   "metadata": {},
   "outputs": [
    {
     "name": "stdout",
     "output_type": "stream",
     "text": [
      "21000\n"
     ]
    }
   ],
   "source": [
    "# Figuring out how many lines there are in the validation set\n",
    "\n",
    "with open('C:\\\\Users\\\\Neal\\\\Documents\\\\Programming\\\\Fellowship Ai\\\\europarl-test\\europarltest.txt',encoding = 'utf-8') as f:\n",
    "    n = 0\n",
    "    while f.readline():\n",
    "        n += 1\n",
    "\n",
    "print(n)"
   ]
  },
  {
   "cell_type": "code",
   "execution_count": 272,
   "metadata": {},
   "outputs": [
    {
     "name": "stdout",
     "output_type": "stream",
     "text": [
      "Time Spent: 0.28 secs\n"
     ]
    }
   ],
   "source": [
    "# Applying model to validation set\n",
    "\n",
    "num_lines_from_test = 21000\n",
    "\n",
    "begin = time.time()\n",
    "\n",
    "y_validation = np.empty(num_lines_from_test, dtype = 'object')\n",
    "X_text_validation = np.empty(shape = (num_lines_from_test,len(set_char)), dtype = 'object')\n",
    "\n",
    "with open('C:\\\\Users\\\\Neal\\\\Documents\\\\Programming\\\\Fellowship Ai\\\\europarl-test\\europarltest.txt',encoding = 'utf-8') as f:\n",
    "    \n",
    "    for n in range(num_lines_from_test):\n",
    "        line = f.readline().split('\\t')\n",
    "        label = line[0]\n",
    "        line = ' '.join(line[1:])       \n",
    "        X_text_validation, y_validation = create_char_count_array(line, label, X_text_validation, y_validation, n)          \n",
    "        \n",
    "print('Time Spent: {:0.2f} secs'.format(time.time()-begin))\n"
   ]
  },
  {
   "cell_type": "code",
   "execution_count": 273,
   "metadata": {},
   "outputs": [
    {
     "name": "stdout",
     "output_type": "stream",
     "text": [
      "Accuracy score is 0.8936666666666667\n"
     ]
    }
   ],
   "source": [
    "# Calculating validation accuracy\n",
    "\n",
    "y_pred = gs.predict(X_text_validation)\n",
    "print(f'Accuracy score is {accuracy_score(y_validation,y_pred)}')"
   ]
  },
  {
   "cell_type": "code",
   "execution_count": 337,
   "metadata": {},
   "outputs": [],
   "source": [
    "# Function that calculates the accuracy over languages\n",
    "\n",
    "def calculate_accuracy_over_languages(y,y_pred):\n",
    "\n",
    "    total_dict = Counter(y)\n",
    "    correct_dict = defaultdict(int)\n",
    "\n",
    "    for n in range(y.shape[0]):\n",
    "        if y_pred[n] == y[n]:\n",
    "            correct_dict[y[n]] += 1\n",
    "\n",
    "    accuracy_dict = {k:correct_dict[k]/total_dict[k] for k in correct_dict.keys()}\n",
    "    df = pd.DataFrame(data = accuracy_dict, index = accuracy_dict.keys()).iloc[0,:].reset_index()\n",
    "    return df"
   ]
  },
  {
   "cell_type": "code",
   "execution_count": 340,
   "metadata": {},
   "outputs": [],
   "source": [
    "df_validation = calculate_accuracy_over_languages(y_validation, y_pred)"
   ]
  },
  {
   "cell_type": "code",
   "execution_count": 360,
   "metadata": {},
   "outputs": [
    {
     "data": {
      "text/plain": [
       "Text(0.5,1,'Train and Validation Accuracy')"
      ]
     },
     "execution_count": 360,
     "metadata": {},
     "output_type": "execute_result"
    },
    {
     "data": {
      "image/png": "[encoded data removed]",
      "text/plain": [
       "<matplotlib.figure.Figure at 0x27b03f04550>"
      ]
     },
     "metadata": {},
     "output_type": "display_data"
    }
   ],
   "source": [
    "df_total = df_training_set.merge(df_validation,on='index')\n",
    "df_total.columns = ['language','train','validation']\n",
    "\n",
    "df_total.plot(x = 'language',kind='barh',figsize = (10,5))\n",
    "plt.xlabel('Accuracy')\n",
    "plt.title('Train and Validation Accuracy')"
   ]
  },
  {
   "cell_type": "code",
   "execution_count": null,
   "metadata": {},
   "outputs": [],
   "source": []
  }
 ],
 "metadata": {
  "kernelspec": {
   "display_name": "Python 3",
   "language": "python",
   "name": "python3"
  },
  "language_info": {
   "codemirror_mode": {
    "name": "ipython",
    "version": 3
   },
   "file_extension": ".py",
   "mimetype": "text/x-python",
   "name": "python",
   "nbconvert_exporter": "python",
   "pygments_lexer": "ipython3",
   "version": "3.6.4"
  }
 },
 "nbformat": 4,
 "nbformat_minor": 2
}
